{
 "cells": [
  {
   "cell_type": "code",
   "execution_count": 1,
   "metadata": {},
   "outputs": [],
   "source": [
    "# install DESeq2\n",
    "# if (!requireNamespace(\"BiocManager\", quietly = TRUE))\n",
    "#     install.packages(\"BiocManager\")\n",
    "# BiocManager::install(\"DESeq2\")"
   ]
  },
  {
   "cell_type": "markdown",
   "metadata": {},
   "source": [
    "## DESeq2\n"
   ]
  },
  {
   "cell_type": "code",
   "execution_count": 2,
   "metadata": {
    "scrolled": true
   },
   "outputs": [
    {
     "name": "stderr",
     "output_type": "stream",
     "text": [
      "Registered S3 methods overwritten by 'ggplot2':\n",
      "  method         from \n",
      "  [.quosures     rlang\n",
      "  c.quosures     rlang\n",
      "  print.quosures rlang\n",
      "Loading required package: S4Vectors\n",
      "Loading required package: stats4\n",
      "Loading required package: BiocGenerics\n",
      "Loading required package: parallel\n",
      "\n",
      "Attaching package: ‘BiocGenerics’\n",
      "\n",
      "The following objects are masked from ‘package:parallel’:\n",
      "\n",
      "    clusterApply, clusterApplyLB, clusterCall, clusterEvalQ,\n",
      "    clusterExport, clusterMap, parApply, parCapply, parLapply,\n",
      "    parLapplyLB, parRapply, parSapply, parSapplyLB\n",
      "\n",
      "The following objects are masked from ‘package:stats’:\n",
      "\n",
      "    IQR, mad, sd, var, xtabs\n",
      "\n",
      "The following objects are masked from ‘package:base’:\n",
      "\n",
      "    anyDuplicated, append, as.data.frame, basename, cbind, colnames,\n",
      "    dirname, do.call, duplicated, eval, evalq, Filter, Find, get, grep,\n",
      "    grepl, intersect, is.unsorted, lapply, Map, mapply, match, mget,\n",
      "    order, paste, pmax, pmax.int, pmin, pmin.int, Position, rank,\n",
      "    rbind, Reduce, rownames, sapply, setdiff, sort, table, tapply,\n",
      "    union, unique, unsplit, which, which.max, which.min\n",
      "\n",
      "\n",
      "Attaching package: ‘S4Vectors’\n",
      "\n",
      "The following object is masked from ‘package:base’:\n",
      "\n",
      "    expand.grid\n",
      "\n",
      "Loading required package: IRanges\n",
      "Loading required package: GenomicRanges\n",
      "Loading required package: GenomeInfoDb\n",
      "Loading required package: SummarizedExperiment\n",
      "Loading required package: Biobase\n",
      "Welcome to Bioconductor\n",
      "\n",
      "    Vignettes contain introductory material; view with\n",
      "    'browseVignettes()'. To cite Bioconductor, see\n",
      "    'citation(\"Biobase\")', and for packages 'citation(\"pkgname\")'.\n",
      "\n",
      "Loading required package: DelayedArray\n",
      "Loading required package: matrixStats\n",
      "\n",
      "Attaching package: ‘matrixStats’\n",
      "\n",
      "The following objects are masked from ‘package:Biobase’:\n",
      "\n",
      "    anyMissing, rowMedians\n",
      "\n",
      "Loading required package: BiocParallel\n",
      "\n",
      "Attaching package: ‘DelayedArray’\n",
      "\n",
      "The following objects are masked from ‘package:matrixStats’:\n",
      "\n",
      "    colMaxs, colMins, colRanges, rowMaxs, rowMins, rowRanges\n",
      "\n",
      "The following objects are masked from ‘package:base’:\n",
      "\n",
      "    aperm, apply, rowsum\n",
      "\n"
     ]
    }
   ],
   "source": [
    "library('ggplot2')\n",
    "library('RColorBrewer')\n",
    "library('DESeq2')"
   ]
  },
  {
   "cell_type": "code",
   "execution_count": 3,
   "metadata": {},
   "outputs": [
    {
     "data": {
      "text/html": [
       "<table>\n",
       "<thead><tr><th></th><th scope=col>lin28b_ctrl_rep1</th><th scope=col>lin28b_ctrl_rep2</th><th scope=col>lin28b_kd_rep1</th><th scope=col>lin28b_kd_rep2</th></tr></thead>\n",
       "<tbody>\n",
       "\t<tr><th scope=row>ENSG00000223972.4</th><td>  0</td><td>  2</td><td>  0</td><td>  0</td></tr>\n",
       "\t<tr><th scope=row>ENSG00000227232.4</th><td>294</td><td>294</td><td>334</td><td>410</td></tr>\n",
       "\t<tr><th scope=row>ENSG00000243485.2</th><td>  0</td><td>  0</td><td>  0</td><td>  0</td></tr>\n",
       "\t<tr><th scope=row>ENSG00000237613.2</th><td>  0</td><td>  2</td><td>  4</td><td>  7</td></tr>\n",
       "\t<tr><th scope=row>ENSG00000268020.2</th><td>  0</td><td>  0</td><td>  0</td><td>  0</td></tr>\n",
       "\t<tr><th scope=row>ENSG00000240361.1</th><td>  0</td><td>  0</td><td>  0</td><td>  0</td></tr>\n",
       "</tbody>\n",
       "</table>\n"
      ],
      "text/latex": [
       "\\begin{tabular}{r|llll}\n",
       "  & lin28b\\_ctrl\\_rep1 & lin28b\\_ctrl\\_rep2 & lin28b\\_kd\\_rep1 & lin28b\\_kd\\_rep2\\\\\n",
       "\\hline\n",
       "\tENSG00000223972.4 &   0 &   2 &   0 &   0\\\\\n",
       "\tENSG00000227232.4 & 294 & 294 & 334 & 410\\\\\n",
       "\tENSG00000243485.2 &   0 &   0 &   0 &   0\\\\\n",
       "\tENSG00000237613.2 &   0 &   2 &   4 &   7\\\\\n",
       "\tENSG00000268020.2 &   0 &   0 &   0 &   0\\\\\n",
       "\tENSG00000240361.1 &   0 &   0 &   0 &   0\\\\\n",
       "\\end{tabular}\n"
      ],
      "text/markdown": [
       "\n",
       "| <!--/--> | lin28b_ctrl_rep1 | lin28b_ctrl_rep2 | lin28b_kd_rep1 | lin28b_kd_rep2 |\n",
       "|---|---|---|---|---|\n",
       "| ENSG00000223972.4 |   0 |   2 |   0 |   0 |\n",
       "| ENSG00000227232.4 | 294 | 294 | 334 | 410 |\n",
       "| ENSG00000243485.2 |   0 |   0 |   0 |   0 |\n",
       "| ENSG00000237613.2 |   0 |   2 |   4 |   7 |\n",
       "| ENSG00000268020.2 |   0 |   0 |   0 |   0 |\n",
       "| ENSG00000240361.1 |   0 |   0 |   0 |   0 |\n",
       "\n"
      ],
      "text/plain": [
       "                  lin28b_ctrl_rep1 lin28b_ctrl_rep2 lin28b_kd_rep1\n",
       "ENSG00000223972.4   0                2                0           \n",
       "ENSG00000227232.4 294              294              334           \n",
       "ENSG00000243485.2   0                0                0           \n",
       "ENSG00000237613.2   0                2                4           \n",
       "ENSG00000268020.2   0                0                0           \n",
       "ENSG00000240361.1   0                0                0           \n",
       "                  lin28b_kd_rep2\n",
       "ENSG00000223972.4   0           \n",
       "ENSG00000227232.4 410           \n",
       "ENSG00000243485.2   0           \n",
       "ENSG00000237613.2   7           \n",
       "ENSG00000268020.2   0           \n",
       "ENSG00000240361.1   0           "
      ]
     },
     "metadata": {},
     "output_type": "display_data"
    }
   ],
   "source": [
    "countFile <- '~/projects/counts_for_deseq2.csv'\n",
    "counts <- read.csv(countFile, \n",
    "                   header=TRUE, row.names=1)\n",
    "# Remove the column for transcript length\n",
    "counts$Length <- NULL\n",
    "\n",
    "head(counts)"
   ]
  },
  {
   "cell_type": "code",
   "execution_count": 4,
   "metadata": {},
   "outputs": [
    {
     "data": {
      "text/html": [
       "<table>\n",
       "<thead><tr><th></th><th scope=col>condition</th></tr></thead>\n",
       "<tbody>\n",
       "\t<tr><th scope=row>lin28b_ctrl_rep1</th><td>control  </td></tr>\n",
       "\t<tr><th scope=row>lin28b_ctrl_rep2</th><td>control  </td></tr>\n",
       "\t<tr><th scope=row>lin28b_kd_rep1</th><td>knockdown</td></tr>\n",
       "\t<tr><th scope=row>lin28b_kd_rep2</th><td>knockdown</td></tr>\n",
       "</tbody>\n",
       "</table>\n"
      ],
      "text/latex": [
       "\\begin{tabular}{r|l}\n",
       "  & condition\\\\\n",
       "\\hline\n",
       "\tlin28b\\_ctrl\\_rep1 & control  \\\\\n",
       "\tlin28b\\_ctrl\\_rep2 & control  \\\\\n",
       "\tlin28b\\_kd\\_rep1 & knockdown\\\\\n",
       "\tlin28b\\_kd\\_rep2 & knockdown\\\\\n",
       "\\end{tabular}\n"
      ],
      "text/markdown": [
       "\n",
       "| <!--/--> | condition |\n",
       "|---|---|\n",
       "| lin28b_ctrl_rep1 | control   |\n",
       "| lin28b_ctrl_rep2 | control   |\n",
       "| lin28b_kd_rep1 | knockdown |\n",
       "| lin28b_kd_rep2 | knockdown |\n",
       "\n"
      ],
      "text/plain": [
       "                 condition\n",
       "lin28b_ctrl_rep1 control  \n",
       "lin28b_ctrl_rep2 control  \n",
       "lin28b_kd_rep1   knockdown\n",
       "lin28b_kd_rep2   knockdown"
      ]
     },
     "metadata": {},
     "output_type": "display_data"
    }
   ],
   "source": [
    "colFile <- '~/projects/conditions_matrix_deseq2.csv'\n",
    "col_data <- read.csv(colFile,\n",
    "                  header=TRUE, row.names=1)\n",
    "\n",
    "head(col_data)"
   ]
  },
  {
   "cell_type": "code",
   "execution_count": 5,
   "metadata": {},
   "outputs": [],
   "source": [
    "# design: how the counts for each gene depend on the variables in colData\n",
    "dds <- DESeqDataSetFromMatrix(countData = counts,\n",
    "                              colData = col_data,\n",
    "                              design = ~ condition)"
   ]
  },
  {
   "cell_type": "code",
   "execution_count": 6,
   "metadata": {},
   "outputs": [
    {
     "data": {
      "text/plain": [
       "class: DESeqDataSet \n",
       "dim: 57820 4 \n",
       "metadata(1): version\n",
       "assays(1): counts\n",
       "rownames(57820): ENSG00000223972.4 ENSG00000227232.4 ...\n",
       "  ENSG00000210195.2 ENSG00000210196.2\n",
       "rowData names(0):\n",
       "colnames(4): lin28b_ctrl_rep1 lin28b_ctrl_rep2 lin28b_kd_rep1\n",
       "  lin28b_kd_rep2\n",
       "colData names(1): condition"
      ]
     },
     "metadata": {},
     "output_type": "display_data"
    }
   ],
   "source": [
    "dds"
   ]
  },
  {
   "cell_type": "markdown",
   "metadata": {},
   "source": [
    "### filter gene expressions"
   ]
  },
  {
   "cell_type": "code",
   "execution_count": 9,
   "metadata": {},
   "outputs": [
    {
     "data": {
      "text/html": [
       "<table>\n",
       "<thead><tr><th></th><th scope=col>lin28b_ctrl_rep1</th><th scope=col>lin28b_ctrl_rep2</th><th scope=col>lin28b_kd_rep1</th><th scope=col>lin28b_kd_rep2</th></tr></thead>\n",
       "<tbody>\n",
       "\t<tr><th scope=row>ENSG00000223972.4</th><td>  0</td><td>  2</td><td>  0</td><td>  0</td></tr>\n",
       "\t<tr><th scope=row>ENSG00000227232.4</th><td>294</td><td>294</td><td>334</td><td>410</td></tr>\n",
       "\t<tr><th scope=row>ENSG00000243485.2</th><td>  0</td><td>  0</td><td>  0</td><td>  0</td></tr>\n",
       "\t<tr><th scope=row>ENSG00000237613.2</th><td>  0</td><td>  2</td><td>  4</td><td>  7</td></tr>\n",
       "\t<tr><th scope=row>ENSG00000268020.2</th><td>  0</td><td>  0</td><td>  0</td><td>  0</td></tr>\n",
       "\t<tr><th scope=row>ENSG00000240361.1</th><td>  0</td><td>  0</td><td>  0</td><td>  0</td></tr>\n",
       "</tbody>\n",
       "</table>\n"
      ],
      "text/latex": [
       "\\begin{tabular}{r|llll}\n",
       "  & lin28b\\_ctrl\\_rep1 & lin28b\\_ctrl\\_rep2 & lin28b\\_kd\\_rep1 & lin28b\\_kd\\_rep2\\\\\n",
       "\\hline\n",
       "\tENSG00000223972.4 &   0 &   2 &   0 &   0\\\\\n",
       "\tENSG00000227232.4 & 294 & 294 & 334 & 410\\\\\n",
       "\tENSG00000243485.2 &   0 &   0 &   0 &   0\\\\\n",
       "\tENSG00000237613.2 &   0 &   2 &   4 &   7\\\\\n",
       "\tENSG00000268020.2 &   0 &   0 &   0 &   0\\\\\n",
       "\tENSG00000240361.1 &   0 &   0 &   0 &   0\\\\\n",
       "\\end{tabular}\n"
      ],
      "text/markdown": [
       "\n",
       "| <!--/--> | lin28b_ctrl_rep1 | lin28b_ctrl_rep2 | lin28b_kd_rep1 | lin28b_kd_rep2 |\n",
       "|---|---|---|---|---|\n",
       "| ENSG00000223972.4 |   0 |   2 |   0 |   0 |\n",
       "| ENSG00000227232.4 | 294 | 294 | 334 | 410 |\n",
       "| ENSG00000243485.2 |   0 |   0 |   0 |   0 |\n",
       "| ENSG00000237613.2 |   0 |   2 |   4 |   7 |\n",
       "| ENSG00000268020.2 |   0 |   0 |   0 |   0 |\n",
       "| ENSG00000240361.1 |   0 |   0 |   0 |   0 |\n",
       "\n"
      ],
      "text/plain": [
       "                  lin28b_ctrl_rep1 lin28b_ctrl_rep2 lin28b_kd_rep1\n",
       "ENSG00000223972.4   0                2                0           \n",
       "ENSG00000227232.4 294              294              334           \n",
       "ENSG00000243485.2   0                0                0           \n",
       "ENSG00000237613.2   0                2                4           \n",
       "ENSG00000268020.2   0                0                0           \n",
       "ENSG00000240361.1   0                0                0           \n",
       "                  lin28b_kd_rep2\n",
       "ENSG00000223972.4   0           \n",
       "ENSG00000227232.4 410           \n",
       "ENSG00000243485.2   0           \n",
       "ENSG00000237613.2   7           \n",
       "ENSG00000268020.2   0           \n",
       "ENSG00000240361.1   0           "
      ]
     },
     "metadata": {},
     "output_type": "display_data"
    }
   ],
   "source": [
    "head(counts(dds))"
   ]
  },
  {
   "cell_type": "code",
   "execution_count": 10,
   "metadata": {},
   "outputs": [
    {
     "data": {
      "text/html": [
       "<dl class=dl-horizontal>\n",
       "\t<dt>ENSG00000223972.4</dt>\n",
       "\t\t<dd>FALSE</dd>\n",
       "\t<dt>ENSG00000227232.4</dt>\n",
       "\t\t<dd>TRUE</dd>\n",
       "\t<dt>ENSG00000243485.2</dt>\n",
       "\t\t<dd>FALSE</dd>\n",
       "\t<dt>ENSG00000237613.2</dt>\n",
       "\t\t<dd>TRUE</dd>\n",
       "\t<dt>ENSG00000268020.2</dt>\n",
       "\t\t<dd>FALSE</dd>\n",
       "\t<dt>ENSG00000240361.1</dt>\n",
       "\t\t<dd>FALSE</dd>\n",
       "</dl>\n"
      ],
      "text/latex": [
       "\\begin{description*}\n",
       "\\item[ENSG00000223972.4] FALSE\n",
       "\\item[ENSG00000227232.4] TRUE\n",
       "\\item[ENSG00000243485.2] FALSE\n",
       "\\item[ENSG00000237613.2] TRUE\n",
       "\\item[ENSG00000268020.2] FALSE\n",
       "\\item[ENSG00000240361.1] FALSE\n",
       "\\end{description*}\n"
      ],
      "text/markdown": [
       "ENSG00000223972.4\n",
       ":   FALSEENSG00000227232.4\n",
       ":   TRUEENSG00000243485.2\n",
       ":   FALSEENSG00000237613.2\n",
       ":   TRUEENSG00000268020.2\n",
       ":   FALSEENSG00000240361.1\n",
       ":   FALSE\n",
       "\n"
      ],
      "text/plain": [
       "ENSG00000223972.4 ENSG00000227232.4 ENSG00000243485.2 ENSG00000237613.2 \n",
       "            FALSE              TRUE             FALSE              TRUE \n",
       "ENSG00000268020.2 ENSG00000240361.1 \n",
       "            FALSE             FALSE "
      ]
     },
     "metadata": {},
     "output_type": "display_data"
    }
   ],
   "source": [
    "rowSums(head(counts(dds))) > 4"
   ]
  },
  {
   "cell_type": "code",
   "execution_count": 11,
   "metadata": {},
   "outputs": [],
   "source": [
    "dds <- dds[ rowSums(counts(dds)) > 4, ]"
   ]
  },
  {
   "cell_type": "code",
   "execution_count": 12,
   "metadata": {},
   "outputs": [
    {
     "name": "stderr",
     "output_type": "stream",
     "text": [
      "estimating size factors\n",
      "estimating dispersions\n",
      "gene-wise dispersion estimates\n",
      "mean-dispersion relationship\n",
      "final dispersion estimates\n",
      "fitting model and testing\n"
     ]
    }
   ],
   "source": [
    "dds <- DESeq(dds)"
   ]
  },
  {
   "cell_type": "code",
   "execution_count": 13,
   "metadata": {},
   "outputs": [
    {
     "data": {
      "text/plain": [
       "class: DESeqDataSet \n",
       "dim: 20367 4 \n",
       "metadata(1): version\n",
       "assays(4): counts mu H cooks\n",
       "rownames(20367): ENSG00000227232.4 ENSG00000237613.2 ...\n",
       "  ENSG00000210195.2 ENSG00000210196.2\n",
       "rowData names(22): baseMean baseVar ... deviance maxCooks\n",
       "colnames(4): lin28b_ctrl_rep1 lin28b_ctrl_rep2 lin28b_kd_rep1\n",
       "  lin28b_kd_rep2\n",
       "colData names(2): condition sizeFactor"
      ]
     },
     "metadata": {},
     "output_type": "display_data"
    }
   ],
   "source": [
    "dds"
   ]
  },
  {
   "cell_type": "code",
   "execution_count": 14,
   "metadata": {},
   "outputs": [
    {
     "data": {
      "text/plain": [
       "class: DESeqDataSet \n",
       "dim: 20367 4 \n",
       "metadata(1): version\n",
       "assays(4): counts mu H cooks\n",
       "rownames(20367): ENSG00000227232.4 ENSG00000237613.2 ...\n",
       "  ENSG00000210195.2 ENSG00000210196.2\n",
       "rowData names(22): baseMean baseVar ... deviance maxCooks\n",
       "colnames(4): lin28b_ctrl_rep1 lin28b_ctrl_rep2 lin28b_kd_rep1\n",
       "  lin28b_kd_rep2\n",
       "colData names(2): condition sizeFactor"
      ]
     },
     "metadata": {},
     "output_type": "display_data"
    }
   ],
   "source": [
    "dds"
   ]
  },
  {
   "cell_type": "code",
   "execution_count": 15,
   "metadata": {},
   "outputs": [],
   "source": [
    "#as.data.frame(res)"
   ]
  },
  {
   "cell_type": "code",
   "execution_count": 16,
   "metadata": {},
   "outputs": [
    {
     "name": "stdout",
     "output_type": "stream",
     "text": [
      "\n",
      "out of 20367 with nonzero total read count\n",
      "adjusted p-value < 0.1\n",
      "LFC > 0 (up)       : 748, 3.7%\n",
      "LFC < 0 (down)     : 1133, 5.6%\n",
      "outliers [1]       : 0, 0%\n",
      "low counts [2]     : 11846, 58%\n",
      "(mean count < 211)\n",
      "[1] see 'cooksCutoff' argument of ?results\n",
      "[2] see 'independentFiltering' argument of ?results\n",
      "\n"
     ]
    }
   ],
   "source": [
    "res <- results(dds)\n",
    "\n",
    "outFname = \"~/projects/differential_expression.csv\"\n",
    "write.csv(as.data.frame(res), file=outFname)\n",
    "\n",
    "summary(res)"
   ]
  },
  {
   "cell_type": "code",
   "execution_count": 17,
   "metadata": {},
   "outputs": [],
   "source": [
    "res_df <- as.data.frame(res)"
   ]
  },
  {
   "cell_type": "markdown",
   "metadata": {},
   "source": [
    "## Add Hugo gene names"
   ]
  },
  {
   "cell_type": "code",
   "execution_count": 18,
   "metadata": {
    "scrolled": true
   },
   "outputs": [
    {
     "data": {
      "text/html": [
       "<table>\n",
       "<thead><tr><th></th><th scope=col>baseMean</th><th scope=col>log2FoldChange</th><th scope=col>lfcSE</th><th scope=col>stat</th><th scope=col>pvalue</th><th scope=col>padj</th></tr></thead>\n",
       "<tbody>\n",
       "\t<tr><th scope=row>ENSG00000227232.4</th><td> 330.36270  </td><td> 0.1524128  </td><td>0.2187426   </td><td> 0.6967678  </td><td>4.859481e-01</td><td>0.6778136653</td></tr>\n",
       "\t<tr><th scope=row>ENSG00000237613.2</th><td>   2.97862  </td><td> 2.3246000  </td><td>2.1882391   </td><td> 1.0623153  </td><td>2.880926e-01</td><td>          NA</td></tr>\n",
       "\t<tr><th scope=row>ENSG00000238009.2</th><td> 126.66769  </td><td> 0.3134621  </td><td>0.3264792   </td><td> 0.9601288  </td><td>3.369904e-01</td><td>          NA</td></tr>\n",
       "\t<tr><th scope=row>ENSG00000237683.5</th><td>1341.55539  </td><td> 0.7024011  </td><td>0.1533410   </td><td> 4.5806480  </td><td>4.635375e-06</td><td>0.0002170221</td></tr>\n",
       "\t<tr><th scope=row>ENSG00000239906.1</th><td>  21.70825  </td><td> 1.4450013  </td><td>0.7511264   </td><td> 1.9237791  </td><td>5.438228e-02</td><td>          NA</td></tr>\n",
       "\t<tr><th scope=row>ENSG00000241860.2</th><td> 145.53255  </td><td>-0.3763647  </td><td>0.4268807   </td><td>-0.8816624  </td><td>3.779594e-01</td><td>          NA</td></tr>\n",
       "</tbody>\n",
       "</table>\n"
      ],
      "text/latex": [
       "\\begin{tabular}{r|llllll}\n",
       "  & baseMean & log2FoldChange & lfcSE & stat & pvalue & padj\\\\\n",
       "\\hline\n",
       "\tENSG00000227232.4 &  330.36270   &  0.1524128   & 0.2187426    &  0.6967678   & 4.859481e-01 & 0.6778136653\\\\\n",
       "\tENSG00000237613.2 &    2.97862   &  2.3246000   & 2.1882391    &  1.0623153   & 2.880926e-01 &           NA\\\\\n",
       "\tENSG00000238009.2 &  126.66769   &  0.3134621   & 0.3264792    &  0.9601288   & 3.369904e-01 &           NA\\\\\n",
       "\tENSG00000237683.5 & 1341.55539   &  0.7024011   & 0.1533410    &  4.5806480   & 4.635375e-06 & 0.0002170221\\\\\n",
       "\tENSG00000239906.1 &   21.70825   &  1.4450013   & 0.7511264    &  1.9237791   & 5.438228e-02 &           NA\\\\\n",
       "\tENSG00000241860.2 &  145.53255   & -0.3763647   & 0.4268807    & -0.8816624   & 3.779594e-01 &           NA\\\\\n",
       "\\end{tabular}\n"
      ],
      "text/markdown": [
       "\n",
       "| <!--/--> | baseMean | log2FoldChange | lfcSE | stat | pvalue | padj |\n",
       "|---|---|---|---|---|---|---|\n",
       "| ENSG00000227232.4 |  330.36270   |  0.1524128   | 0.2187426    |  0.6967678   | 4.859481e-01 | 0.6778136653 |\n",
       "| ENSG00000237613.2 |    2.97862   |  2.3246000   | 2.1882391    |  1.0623153   | 2.880926e-01 |           NA |\n",
       "| ENSG00000238009.2 |  126.66769   |  0.3134621   | 0.3264792    |  0.9601288   | 3.369904e-01 |           NA |\n",
       "| ENSG00000237683.5 | 1341.55539   |  0.7024011   | 0.1533410    |  4.5806480   | 4.635375e-06 | 0.0002170221 |\n",
       "| ENSG00000239906.1 |   21.70825   |  1.4450013   | 0.7511264    |  1.9237791   | 5.438228e-02 |           NA |\n",
       "| ENSG00000241860.2 |  145.53255   | -0.3763647   | 0.4268807    | -0.8816624   | 3.779594e-01 |           NA |\n",
       "\n"
      ],
      "text/plain": [
       "                  baseMean   log2FoldChange lfcSE     stat       pvalue      \n",
       "ENSG00000227232.4  330.36270  0.1524128     0.2187426  0.6967678 4.859481e-01\n",
       "ENSG00000237613.2    2.97862  2.3246000     2.1882391  1.0623153 2.880926e-01\n",
       "ENSG00000238009.2  126.66769  0.3134621     0.3264792  0.9601288 3.369904e-01\n",
       "ENSG00000237683.5 1341.55539  0.7024011     0.1533410  4.5806480 4.635375e-06\n",
       "ENSG00000239906.1   21.70825  1.4450013     0.7511264  1.9237791 5.438228e-02\n",
       "ENSG00000241860.2  145.53255 -0.3763647     0.4268807 -0.8816624 3.779594e-01\n",
       "                  padj        \n",
       "ENSG00000227232.4 0.6778136653\n",
       "ENSG00000237613.2           NA\n",
       "ENSG00000238009.2           NA\n",
       "ENSG00000237683.5 0.0002170221\n",
       "ENSG00000239906.1           NA\n",
       "ENSG00000241860.2           NA"
      ]
     },
     "metadata": {},
     "output_type": "display_data"
    }
   ],
   "source": [
    "head(res_df)"
   ]
  },
  {
   "cell_type": "code",
   "execution_count": 19,
   "metadata": {},
   "outputs": [],
   "source": [
    "gene_dir = '/home/ucsd-train97/scratch/annotations/hg19/'\n",
    "gene_names <- read.csv(paste0(gene_dir,\"gencode.v19.annotation.genenames.txt\"),\n",
    "                         header=FALSE, row.names=1)"
   ]
  },
  {
   "cell_type": "code",
   "execution_count": 20,
   "metadata": {},
   "outputs": [],
   "source": [
    "gene_names$gene_ensbl = rownames(gene_names)\n",
    "\n",
    "res_df$gene_ensbl = rownames(res_df)"
   ]
  },
  {
   "cell_type": "code",
   "execution_count": 21,
   "metadata": {},
   "outputs": [
    {
     "data": {
      "text/html": [
       "<table>\n",
       "<thead><tr><th></th><th scope=col>V2</th><th scope=col>gene_ensbl</th></tr></thead>\n",
       "<tbody>\n",
       "\t<tr><th scope=row>ENSG00000223972.4</th><td>DDX11L1          </td><td>ENSG00000223972.4</td></tr>\n",
       "\t<tr><th scope=row>ENSG00000227232.4</th><td>WASH7P           </td><td>ENSG00000227232.4</td></tr>\n",
       "\t<tr><th scope=row>ENSG00000243485.2</th><td>MIR1302-11       </td><td>ENSG00000243485.2</td></tr>\n",
       "\t<tr><th scope=row>ENSG00000237613.2</th><td>FAM138A          </td><td>ENSG00000237613.2</td></tr>\n",
       "\t<tr><th scope=row>ENSG00000268020.2</th><td>OR4G4P           </td><td>ENSG00000268020.2</td></tr>\n",
       "\t<tr><th scope=row>ENSG00000240361.1</th><td>OR4G11P          </td><td>ENSG00000240361.1</td></tr>\n",
       "</tbody>\n",
       "</table>\n"
      ],
      "text/latex": [
       "\\begin{tabular}{r|ll}\n",
       "  & V2 & gene\\_ensbl\\\\\n",
       "\\hline\n",
       "\tENSG00000223972.4 & DDX11L1           & ENSG00000223972.4\\\\\n",
       "\tENSG00000227232.4 & WASH7P            & ENSG00000227232.4\\\\\n",
       "\tENSG00000243485.2 & MIR1302-11        & ENSG00000243485.2\\\\\n",
       "\tENSG00000237613.2 & FAM138A           & ENSG00000237613.2\\\\\n",
       "\tENSG00000268020.2 & OR4G4P            & ENSG00000268020.2\\\\\n",
       "\tENSG00000240361.1 & OR4G11P           & ENSG00000240361.1\\\\\n",
       "\\end{tabular}\n"
      ],
      "text/markdown": [
       "\n",
       "| <!--/--> | V2 | gene_ensbl |\n",
       "|---|---|---|\n",
       "| ENSG00000223972.4 | DDX11L1           | ENSG00000223972.4 |\n",
       "| ENSG00000227232.4 | WASH7P            | ENSG00000227232.4 |\n",
       "| ENSG00000243485.2 | MIR1302-11        | ENSG00000243485.2 |\n",
       "| ENSG00000237613.2 | FAM138A           | ENSG00000237613.2 |\n",
       "| ENSG00000268020.2 | OR4G4P            | ENSG00000268020.2 |\n",
       "| ENSG00000240361.1 | OR4G11P           | ENSG00000240361.1 |\n",
       "\n"
      ],
      "text/plain": [
       "                  V2         gene_ensbl       \n",
       "ENSG00000223972.4 DDX11L1    ENSG00000223972.4\n",
       "ENSG00000227232.4 WASH7P     ENSG00000227232.4\n",
       "ENSG00000243485.2 MIR1302-11 ENSG00000243485.2\n",
       "ENSG00000237613.2 FAM138A    ENSG00000237613.2\n",
       "ENSG00000268020.2 OR4G4P     ENSG00000268020.2\n",
       "ENSG00000240361.1 OR4G11P    ENSG00000240361.1"
      ]
     },
     "metadata": {},
     "output_type": "display_data"
    }
   ],
   "source": [
    "head(gene_names)"
   ]
  },
  {
   "cell_type": "code",
   "execution_count": 22,
   "metadata": {},
   "outputs": [
    {
     "data": {
      "text/html": [
       "<table>\n",
       "<thead><tr><th></th><th scope=col>baseMean</th><th scope=col>log2FoldChange</th><th scope=col>lfcSE</th><th scope=col>stat</th><th scope=col>pvalue</th><th scope=col>padj</th><th scope=col>gene_ensbl</th></tr></thead>\n",
       "<tbody>\n",
       "\t<tr><th scope=row>ENSG00000227232.4</th><td> 330.36270       </td><td> 0.1524128       </td><td>0.2187426        </td><td> 0.6967678       </td><td>4.859481e-01     </td><td>0.6778136653     </td><td>ENSG00000227232.4</td></tr>\n",
       "\t<tr><th scope=row>ENSG00000237613.2</th><td>   2.97862       </td><td> 2.3246000       </td><td>2.1882391        </td><td> 1.0623153       </td><td>2.880926e-01     </td><td>          NA     </td><td>ENSG00000237613.2</td></tr>\n",
       "\t<tr><th scope=row>ENSG00000238009.2</th><td> 126.66769       </td><td> 0.3134621       </td><td>0.3264792        </td><td> 0.9601288       </td><td>3.369904e-01     </td><td>          NA     </td><td>ENSG00000238009.2</td></tr>\n",
       "\t<tr><th scope=row>ENSG00000237683.5</th><td>1341.55539       </td><td> 0.7024011       </td><td>0.1533410        </td><td> 4.5806480       </td><td>4.635375e-06     </td><td>0.0002170221     </td><td>ENSG00000237683.5</td></tr>\n",
       "\t<tr><th scope=row>ENSG00000239906.1</th><td>  21.70825       </td><td> 1.4450013       </td><td>0.7511264        </td><td> 1.9237791       </td><td>5.438228e-02     </td><td>          NA     </td><td>ENSG00000239906.1</td></tr>\n",
       "\t<tr><th scope=row>ENSG00000241860.2</th><td> 145.53255       </td><td>-0.3763647       </td><td>0.4268807        </td><td>-0.8816624       </td><td>3.779594e-01     </td><td>          NA     </td><td>ENSG00000241860.2</td></tr>\n",
       "</tbody>\n",
       "</table>\n"
      ],
      "text/latex": [
       "\\begin{tabular}{r|lllllll}\n",
       "  & baseMean & log2FoldChange & lfcSE & stat & pvalue & padj & gene\\_ensbl\\\\\n",
       "\\hline\n",
       "\tENSG00000227232.4 &  330.36270        &  0.1524128        & 0.2187426         &  0.6967678        & 4.859481e-01      & 0.6778136653      & ENSG00000227232.4\\\\\n",
       "\tENSG00000237613.2 &    2.97862        &  2.3246000        & 2.1882391         &  1.0623153        & 2.880926e-01      &           NA      & ENSG00000237613.2\\\\\n",
       "\tENSG00000238009.2 &  126.66769        &  0.3134621        & 0.3264792         &  0.9601288        & 3.369904e-01      &           NA      & ENSG00000238009.2\\\\\n",
       "\tENSG00000237683.5 & 1341.55539        &  0.7024011        & 0.1533410         &  4.5806480        & 4.635375e-06      & 0.0002170221      & ENSG00000237683.5\\\\\n",
       "\tENSG00000239906.1 &   21.70825        &  1.4450013        & 0.7511264         &  1.9237791        & 5.438228e-02      &           NA      & ENSG00000239906.1\\\\\n",
       "\tENSG00000241860.2 &  145.53255        & -0.3763647        & 0.4268807         & -0.8816624        & 3.779594e-01      &           NA      & ENSG00000241860.2\\\\\n",
       "\\end{tabular}\n"
      ],
      "text/markdown": [
       "\n",
       "| <!--/--> | baseMean | log2FoldChange | lfcSE | stat | pvalue | padj | gene_ensbl |\n",
       "|---|---|---|---|---|---|---|---|\n",
       "| ENSG00000227232.4 |  330.36270        |  0.1524128        | 0.2187426         |  0.6967678        | 4.859481e-01      | 0.6778136653      | ENSG00000227232.4 |\n",
       "| ENSG00000237613.2 |    2.97862        |  2.3246000        | 2.1882391         |  1.0623153        | 2.880926e-01      |           NA      | ENSG00000237613.2 |\n",
       "| ENSG00000238009.2 |  126.66769        |  0.3134621        | 0.3264792         |  0.9601288        | 3.369904e-01      |           NA      | ENSG00000238009.2 |\n",
       "| ENSG00000237683.5 | 1341.55539        |  0.7024011        | 0.1533410         |  4.5806480        | 4.635375e-06      | 0.0002170221      | ENSG00000237683.5 |\n",
       "| ENSG00000239906.1 |   21.70825        |  1.4450013        | 0.7511264         |  1.9237791        | 5.438228e-02      |           NA      | ENSG00000239906.1 |\n",
       "| ENSG00000241860.2 |  145.53255        | -0.3763647        | 0.4268807         | -0.8816624        | 3.779594e-01      |           NA      | ENSG00000241860.2 |\n",
       "\n"
      ],
      "text/plain": [
       "                  baseMean   log2FoldChange lfcSE     stat       pvalue      \n",
       "ENSG00000227232.4  330.36270  0.1524128     0.2187426  0.6967678 4.859481e-01\n",
       "ENSG00000237613.2    2.97862  2.3246000     2.1882391  1.0623153 2.880926e-01\n",
       "ENSG00000238009.2  126.66769  0.3134621     0.3264792  0.9601288 3.369904e-01\n",
       "ENSG00000237683.5 1341.55539  0.7024011     0.1533410  4.5806480 4.635375e-06\n",
       "ENSG00000239906.1   21.70825  1.4450013     0.7511264  1.9237791 5.438228e-02\n",
       "ENSG00000241860.2  145.53255 -0.3763647     0.4268807 -0.8816624 3.779594e-01\n",
       "                  padj         gene_ensbl       \n",
       "ENSG00000227232.4 0.6778136653 ENSG00000227232.4\n",
       "ENSG00000237613.2           NA ENSG00000237613.2\n",
       "ENSG00000238009.2           NA ENSG00000238009.2\n",
       "ENSG00000237683.5 0.0002170221 ENSG00000237683.5\n",
       "ENSG00000239906.1           NA ENSG00000239906.1\n",
       "ENSG00000241860.2           NA ENSG00000241860.2"
      ]
     },
     "metadata": {},
     "output_type": "display_data"
    }
   ],
   "source": [
    "head(res_df)"
   ]
  },
  {
   "cell_type": "code",
   "execution_count": 23,
   "metadata": {},
   "outputs": [],
   "source": [
    "res_df_genes = merge(res_df,gene_names,by = 'gene_ensbl')"
   ]
  },
  {
   "cell_type": "code",
   "execution_count": 24,
   "metadata": {},
   "outputs": [
    {
     "data": {
      "text/html": [
       "<ol class=list-inline>\n",
       "\t<li>20367</li>\n",
       "\t<li>8</li>\n",
       "</ol>\n"
      ],
      "text/latex": [
       "\\begin{enumerate*}\n",
       "\\item 20367\n",
       "\\item 8\n",
       "\\end{enumerate*}\n"
      ],
      "text/markdown": [
       "1. 20367\n",
       "2. 8\n",
       "\n",
       "\n"
      ],
      "text/plain": [
       "[1] 20367     8"
      ]
     },
     "metadata": {},
     "output_type": "display_data"
    }
   ],
   "source": [
    "dim(res_df_genes)"
   ]
  },
  {
   "cell_type": "code",
   "execution_count": 25,
   "metadata": {},
   "outputs": [
    {
     "data": {
      "text/html": [
       "<table>\n",
       "<thead><tr><th scope=col>gene_ensbl</th><th scope=col>baseMean</th><th scope=col>log2FoldChange</th><th scope=col>lfcSE</th><th scope=col>stat</th><th scope=col>pvalue</th><th scope=col>padj</th><th scope=col>V2</th></tr></thead>\n",
       "<tbody>\n",
       "\t<tr><td>ENSG00000000003.10</td><td>   1.112926       </td><td> 1.76310863       </td><td>3.2318346         </td><td> 0.54554419       </td><td>0.58537929        </td><td>        NA        </td><td>TSPAN6            </td></tr>\n",
       "\t<tr><td>ENSG00000000005.5 </td><td>   1.076500       </td><td> 0.31110867       </td><td>3.8255846         </td><td> 0.08132317       </td><td>0.93518495        </td><td>        NA        </td><td>TNMD              </td></tr>\n",
       "\t<tr><td>ENSG00000000419.8 </td><td>1369.582209       </td><td>-0.31050624       </td><td>0.1476757         </td><td>-2.10262186       </td><td>0.03549884        </td><td>0.13650072        </td><td>DPM1              </td></tr>\n",
       "\t<tr><td>ENSG00000000457.9 </td><td> 206.785145       </td><td> 0.02007926       </td><td>0.2559870         </td><td> 0.07843859       </td><td>0.93747918        </td><td>        NA        </td><td>SCYL3             </td></tr>\n",
       "\t<tr><td>ENSG00000000460.12</td><td> 690.251253       </td><td>-0.33519465       </td><td>0.1452314         </td><td>-2.30800318       </td><td>0.02099896        </td><td>0.09724573        </td><td>C1orf112          </td></tr>\n",
       "\t<tr><td>ENSG00000000938.8 </td><td>   2.256262       </td><td>-0.46935673       </td><td>2.0524404         </td><td>-0.22868227       </td><td>0.81911588        </td><td>        NA        </td><td>FGR               </td></tr>\n",
       "</tbody>\n",
       "</table>\n"
      ],
      "text/latex": [
       "\\begin{tabular}{r|llllllll}\n",
       " gene\\_ensbl & baseMean & log2FoldChange & lfcSE & stat & pvalue & padj & V2\\\\\n",
       "\\hline\n",
       "\t ENSG00000000003.10 &    1.112926        &  1.76310863        & 3.2318346          &  0.54554419        & 0.58537929         &         NA         & TSPAN6            \\\\\n",
       "\t ENSG00000000005.5  &    1.076500        &  0.31110867        & 3.8255846          &  0.08132317        & 0.93518495         &         NA         & TNMD              \\\\\n",
       "\t ENSG00000000419.8  & 1369.582209        & -0.31050624        & 0.1476757          & -2.10262186        & 0.03549884         & 0.13650072         & DPM1              \\\\\n",
       "\t ENSG00000000457.9  &  206.785145        &  0.02007926        & 0.2559870          &  0.07843859        & 0.93747918         &         NA         & SCYL3             \\\\\n",
       "\t ENSG00000000460.12 &  690.251253        & -0.33519465        & 0.1452314          & -2.30800318        & 0.02099896         & 0.09724573         & C1orf112          \\\\\n",
       "\t ENSG00000000938.8  &    2.256262        & -0.46935673        & 2.0524404          & -0.22868227        & 0.81911588         &         NA         & FGR               \\\\\n",
       "\\end{tabular}\n"
      ],
      "text/markdown": [
       "\n",
       "| gene_ensbl | baseMean | log2FoldChange | lfcSE | stat | pvalue | padj | V2 |\n",
       "|---|---|---|---|---|---|---|---|\n",
       "| ENSG00000000003.10 |    1.112926        |  1.76310863        | 3.2318346          |  0.54554419        | 0.58537929         |         NA         | TSPAN6             |\n",
       "| ENSG00000000005.5  |    1.076500        |  0.31110867        | 3.8255846          |  0.08132317        | 0.93518495         |         NA         | TNMD               |\n",
       "| ENSG00000000419.8  | 1369.582209        | -0.31050624        | 0.1476757          | -2.10262186        | 0.03549884         | 0.13650072         | DPM1               |\n",
       "| ENSG00000000457.9  |  206.785145        |  0.02007926        | 0.2559870          |  0.07843859        | 0.93747918         |         NA         | SCYL3              |\n",
       "| ENSG00000000460.12 |  690.251253        | -0.33519465        | 0.1452314          | -2.30800318        | 0.02099896         | 0.09724573         | C1orf112           |\n",
       "| ENSG00000000938.8  |    2.256262        | -0.46935673        | 2.0524404          | -0.22868227        | 0.81911588         |         NA         | FGR                |\n",
       "\n"
      ],
      "text/plain": [
       "  gene_ensbl         baseMean    log2FoldChange lfcSE     stat       \n",
       "1 ENSG00000000003.10    1.112926  1.76310863    3.2318346  0.54554419\n",
       "2 ENSG00000000005.5     1.076500  0.31110867    3.8255846  0.08132317\n",
       "3 ENSG00000000419.8  1369.582209 -0.31050624    0.1476757 -2.10262186\n",
       "4 ENSG00000000457.9   206.785145  0.02007926    0.2559870  0.07843859\n",
       "5 ENSG00000000460.12  690.251253 -0.33519465    0.1452314 -2.30800318\n",
       "6 ENSG00000000938.8     2.256262 -0.46935673    2.0524404 -0.22868227\n",
       "  pvalue     padj       V2      \n",
       "1 0.58537929         NA TSPAN6  \n",
       "2 0.93518495         NA TNMD    \n",
       "3 0.03549884 0.13650072 DPM1    \n",
       "4 0.93747918         NA SCYL3   \n",
       "5 0.02099896 0.09724573 C1orf112\n",
       "6 0.81911588         NA FGR     "
      ]
     },
     "metadata": {},
     "output_type": "display_data"
    }
   ],
   "source": [
    "head(res_df_genes)"
   ]
  },
  {
   "cell_type": "markdown",
   "metadata": {},
   "source": [
    "## Filter genes by p < 0.05"
   ]
  },
  {
   "cell_type": "code",
   "execution_count": 26,
   "metadata": {},
   "outputs": [],
   "source": [
    "sig_gens <- res_df_genes[which(res_df_genes$padj < 0.05),]"
   ]
  },
  {
   "cell_type": "code",
   "execution_count": 27,
   "metadata": {},
   "outputs": [
    {
     "data": {
      "text/html": [
       "<table>\n",
       "<thead><tr><th></th><th scope=col>gene_ensbl</th><th scope=col>baseMean</th><th scope=col>log2FoldChange</th><th scope=col>lfcSE</th><th scope=col>stat</th><th scope=col>pvalue</th><th scope=col>padj</th><th scope=col>V2</th></tr></thead>\n",
       "<tbody>\n",
       "\t<tr><th scope=row>8</th><td>ENSG00000001036.9 </td><td>1716.327          </td><td>-0.3679974        </td><td>0.12884524        </td><td>-2.856119         </td><td>0.0042885415      </td><td>0.0347363707      </td><td>FUCA2             </td></tr>\n",
       "\t<tr><th scope=row>20</th><td>ENSG00000002549.8 </td><td>1527.853          </td><td>-0.3596535        </td><td>0.13112064        </td><td>-2.742921         </td><td>0.0060895415      </td><td>0.0438251549      </td><td>LAP3              </td></tr>\n",
       "\t<tr><th scope=row>24</th><td>ENSG00000002834.13</td><td>4535.036          </td><td> 0.2367614        </td><td>0.07960797        </td><td> 2.974092         </td><td>0.0029385683      </td><td>0.0272484538      </td><td>LASP1             </td></tr>\n",
       "\t<tr><th scope=row>26</th><td>ENSG00000003056.3 </td><td>1535.282          </td><td>-0.3725155        </td><td>0.13876250        </td><td>-2.684555         </td><td>0.0072626513      </td><td>0.0491590920      </td><td>M6PR              </td></tr>\n",
       "\t<tr><th scope=row>42</th><td>ENSG00000004478.5 </td><td>3517.104          </td><td>-0.4472961        </td><td>0.10488666        </td><td>-4.264566         </td><td>0.0000200291      </td><td>0.0007023374      </td><td>FKBP4             </td></tr>\n",
       "\t<tr><th scope=row>43</th><td>ENSG00000004487.11</td><td>5432.959          </td><td>-0.3005657        </td><td>0.08118524        </td><td>-3.702221         </td><td>0.0002137201      </td><td>0.0044854895      </td><td>KDM1A             </td></tr>\n",
       "</tbody>\n",
       "</table>\n"
      ],
      "text/latex": [
       "\\begin{tabular}{r|llllllll}\n",
       "  & gene\\_ensbl & baseMean & log2FoldChange & lfcSE & stat & pvalue & padj & V2\\\\\n",
       "\\hline\n",
       "\t8 & ENSG00000001036.9  & 1716.327           & -0.3679974         & 0.12884524         & -2.856119          & 0.0042885415       & 0.0347363707       & FUCA2             \\\\\n",
       "\t20 & ENSG00000002549.8  & 1527.853           & -0.3596535         & 0.13112064         & -2.742921          & 0.0060895415       & 0.0438251549       & LAP3              \\\\\n",
       "\t24 & ENSG00000002834.13 & 4535.036           &  0.2367614         & 0.07960797         &  2.974092          & 0.0029385683       & 0.0272484538       & LASP1             \\\\\n",
       "\t26 & ENSG00000003056.3  & 1535.282           & -0.3725155         & 0.13876250         & -2.684555          & 0.0072626513       & 0.0491590920       & M6PR              \\\\\n",
       "\t42 & ENSG00000004478.5  & 3517.104           & -0.4472961         & 0.10488666         & -4.264566          & 0.0000200291       & 0.0007023374       & FKBP4             \\\\\n",
       "\t43 & ENSG00000004487.11 & 5432.959           & -0.3005657         & 0.08118524         & -3.702221          & 0.0002137201       & 0.0044854895       & KDM1A             \\\\\n",
       "\\end{tabular}\n"
      ],
      "text/markdown": [
       "\n",
       "| <!--/--> | gene_ensbl | baseMean | log2FoldChange | lfcSE | stat | pvalue | padj | V2 |\n",
       "|---|---|---|---|---|---|---|---|---|\n",
       "| 8 | ENSG00000001036.9  | 1716.327           | -0.3679974         | 0.12884524         | -2.856119          | 0.0042885415       | 0.0347363707       | FUCA2              |\n",
       "| 20 | ENSG00000002549.8  | 1527.853           | -0.3596535         | 0.13112064         | -2.742921          | 0.0060895415       | 0.0438251549       | LAP3               |\n",
       "| 24 | ENSG00000002834.13 | 4535.036           |  0.2367614         | 0.07960797         |  2.974092          | 0.0029385683       | 0.0272484538       | LASP1              |\n",
       "| 26 | ENSG00000003056.3  | 1535.282           | -0.3725155         | 0.13876250         | -2.684555          | 0.0072626513       | 0.0491590920       | M6PR               |\n",
       "| 42 | ENSG00000004478.5  | 3517.104           | -0.4472961         | 0.10488666         | -4.264566          | 0.0000200291       | 0.0007023374       | FKBP4              |\n",
       "| 43 | ENSG00000004487.11 | 5432.959           | -0.3005657         | 0.08118524         | -3.702221          | 0.0002137201       | 0.0044854895       | KDM1A              |\n",
       "\n"
      ],
      "text/plain": [
       "   gene_ensbl         baseMean log2FoldChange lfcSE      stat      pvalue      \n",
       "8  ENSG00000001036.9  1716.327 -0.3679974     0.12884524 -2.856119 0.0042885415\n",
       "20 ENSG00000002549.8  1527.853 -0.3596535     0.13112064 -2.742921 0.0060895415\n",
       "24 ENSG00000002834.13 4535.036  0.2367614     0.07960797  2.974092 0.0029385683\n",
       "26 ENSG00000003056.3  1535.282 -0.3725155     0.13876250 -2.684555 0.0072626513\n",
       "42 ENSG00000004478.5  3517.104 -0.4472961     0.10488666 -4.264566 0.0000200291\n",
       "43 ENSG00000004487.11 5432.959 -0.3005657     0.08118524 -3.702221 0.0002137201\n",
       "   padj         V2   \n",
       "8  0.0347363707 FUCA2\n",
       "20 0.0438251549 LAP3 \n",
       "24 0.0272484538 LASP1\n",
       "26 0.0491590920 M6PR \n",
       "42 0.0007023374 FKBP4\n",
       "43 0.0044854895 KDM1A"
      ]
     },
     "metadata": {},
     "output_type": "display_data"
    }
   ],
   "source": [
    "head(sig_gens)"
   ]
  },
  {
   "cell_type": "code",
   "execution_count": 28,
   "metadata": {},
   "outputs": [],
   "source": [
    "write.csv(sig_gens,'~/projects/significant_genes_R.csv')"
   ]
  },
  {
   "cell_type": "markdown",
   "metadata": {},
   "source": [
    "## Plot"
   ]
  },
  {
   "cell_type": "code",
   "execution_count": 41,
   "metadata": {},
   "outputs": [
    {
     "data": {
      "image/png": "[encoded data removed]",
      "text/plain": [
       "Plot with title “DESeq2”"
      ]
     },
     "metadata": {},
     "output_type": "display_data"
    }
   ],
   "source": [
    "plotMA(res, main=\"DESeq2\", ylim=c(-2,2))"
   ]
  },
  {
   "cell_type": "code",
   "execution_count": 30,
   "metadata": {
    "scrolled": false
   },
   "outputs": [
    {
     "data": {
      "image/png": "[encoded data removed]",
      "text/plain": [
       "Plot with title “alpha=0.05”"
      ]
     },
     "metadata": {},
     "output_type": "display_data"
    }
   ],
   "source": [
    "res05 <- results(dds, alpha=0.05)\n",
    "\n",
    "plotMA(res05, main=\"alpha=0.05\", ylim=c(-2,2))\n"
   ]
  },
  {
   "cell_type": "code",
   "execution_count": 34,
   "metadata": {},
   "outputs": [],
   "source": [
    "rld <- rlog(dds)\n",
    "vsd <- varianceStabilizingTransformation(dds)\n",
    "\n",
    "data <- plotPCA(rld, intgroup=\"condition\", returnData=TRUE)\n",
    "percentVar <- round(100 * attr(data, \"percentVar\"))"
   ]
  },
  {
   "cell_type": "code",
   "execution_count": 35,
   "metadata": {},
   "outputs": [
    {
     "data": {
      "text/html": [
       "<table>\n",
       "<thead><tr><th></th><th scope=col>PC1</th><th scope=col>PC2</th><th scope=col>group</th><th scope=col>condition</th><th scope=col>name</th></tr></thead>\n",
       "<tbody>\n",
       "\t<tr><th scope=row>lin28b_ctrl_rep1</th><td>-9.643613       </td><td> 0.6642826      </td><td>control         </td><td>control         </td><td>lin28b_ctrl_rep1</td></tr>\n",
       "\t<tr><th scope=row>lin28b_ctrl_rep2</th><td> 1.805542       </td><td>-3.8890526      </td><td>control         </td><td>control         </td><td>lin28b_ctrl_rep2</td></tr>\n",
       "\t<tr><th scope=row>lin28b_kd_rep1</th><td> 4.454661       </td><td> 2.3497906      </td><td>knockdown       </td><td>knockdown       </td><td>lin28b_kd_rep1  </td></tr>\n",
       "\t<tr><th scope=row>lin28b_kd_rep2</th><td> 3.383410       </td><td> 0.8749794      </td><td>knockdown       </td><td>knockdown       </td><td>lin28b_kd_rep2  </td></tr>\n",
       "</tbody>\n",
       "</table>\n"
      ],
      "text/latex": [
       "\\begin{tabular}{r|lllll}\n",
       "  & PC1 & PC2 & group & condition & name\\\\\n",
       "\\hline\n",
       "\tlin28b\\_ctrl\\_rep1 & -9.643613            &  0.6642826           & control              & control              & lin28b\\_ctrl\\_rep1\\\\\n",
       "\tlin28b\\_ctrl\\_rep2 &  1.805542            & -3.8890526           & control              & control              & lin28b\\_ctrl\\_rep2\\\\\n",
       "\tlin28b\\_kd\\_rep1 &  4.454661            &  2.3497906           & knockdown            & knockdown            & lin28b\\_kd\\_rep1  \\\\\n",
       "\tlin28b\\_kd\\_rep2 &  3.383410            &  0.8749794           & knockdown            & knockdown            & lin28b\\_kd\\_rep2  \\\\\n",
       "\\end{tabular}\n"
      ],
      "text/markdown": [
       "\n",
       "| <!--/--> | PC1 | PC2 | group | condition | name |\n",
       "|---|---|---|---|---|---|\n",
       "| lin28b_ctrl_rep1 | -9.643613        |  0.6642826       | control          | control          | lin28b_ctrl_rep1 |\n",
       "| lin28b_ctrl_rep2 |  1.805542        | -3.8890526       | control          | control          | lin28b_ctrl_rep2 |\n",
       "| lin28b_kd_rep1 |  4.454661        |  2.3497906       | knockdown        | knockdown        | lin28b_kd_rep1   |\n",
       "| lin28b_kd_rep2 |  3.383410        |  0.8749794       | knockdown        | knockdown        | lin28b_kd_rep2   |\n",
       "\n"
      ],
      "text/plain": [
       "                 PC1       PC2        group     condition name            \n",
       "lin28b_ctrl_rep1 -9.643613  0.6642826 control   control   lin28b_ctrl_rep1\n",
       "lin28b_ctrl_rep2  1.805542 -3.8890526 control   control   lin28b_ctrl_rep2\n",
       "lin28b_kd_rep1    4.454661  2.3497906 knockdown knockdown lin28b_kd_rep1  \n",
       "lin28b_kd_rep2    3.383410  0.8749794 knockdown knockdown lin28b_kd_rep2  "
      ]
     },
     "metadata": {},
     "output_type": "display_data"
    }
   ],
   "source": [
    "data"
   ]
  },
  {
   "cell_type": "code",
   "execution_count": 36,
   "metadata": {},
   "outputs": [
    {
     "data": {
      "image/png": "[encoded data removed]",
      "text/plain": [
       "plot without title"
      ]
     },
     "metadata": {},
     "output_type": "display_data"
    }
   ],
   "source": [
    "ggplot(data, aes(PC1, PC2, color=condition)) +\n",
    "    geom_point(size=3) +\n",
    "    xlab(paste0(\"PC1: \",percentVar[1],\"% variance\")) + \n",
    "    ylab(paste0(\"PC2: \",percentVar[2],\"% variance\"))"
   ]
  },
  {
   "cell_type": "code",
   "execution_count": 37,
   "metadata": {},
   "outputs": [
    {
     "data": {
      "text/html": [
       "<ol class=list-inline>\n",
       "\t<li>83</li>\n",
       "\t<li>14</li>\n",
       "</ol>\n"
      ],
      "text/latex": [
       "\\begin{enumerate*}\n",
       "\\item 83\n",
       "\\item 14\n",
       "\\end{enumerate*}\n"
      ],
      "text/markdown": [
       "1. 83\n",
       "2. 14\n",
       "\n",
       "\n"
      ],
      "text/plain": [
       "[1] 83 14"
      ]
     },
     "metadata": {},
     "output_type": "display_data"
    }
   ],
   "source": [
    "percentVar"
   ]
  },
  {
   "cell_type": "code",
   "execution_count": 38,
   "metadata": {},
   "outputs": [
    {
     "data": {
      "text/plain": [
       "                 lin28b_ctrl_rep1 lin28b_ctrl_rep2 lin28b_kd_rep1\n",
       "lin28b_ctrl_rep2         15.76462                                \n",
       "lin28b_kd_rep1           22.03689         14.52015               \n",
       "lin28b_kd_rep2           18.95468         11.80575        8.31631"
      ]
     },
     "metadata": {},
     "output_type": "display_data"
    }
   ],
   "source": [
    "dist(t(assay(rld)))"
   ]
  },
  {
   "cell_type": "code",
   "execution_count": 39,
   "metadata": {},
   "outputs": [
    {
     "name": "stderr",
     "output_type": "stream",
     "text": [
      "Warning message in plot.window(...):\n",
      "“\"clustering_distance_rows\" is not a graphical parameter”Warning message in plot.window(...):\n",
      "“\"clustering_distance_cols\" is not a graphical parameter”Warning message in plot.xy(xy, type, ...):\n",
      "“\"clustering_distance_rows\" is not a graphical parameter”Warning message in plot.xy(xy, type, ...):\n",
      "“\"clustering_distance_cols\" is not a graphical parameter”Warning message in title(...):\n",
      "“\"clustering_distance_rows\" is not a graphical parameter”Warning message in title(...):\n",
      "“\"clustering_distance_cols\" is not a graphical parameter”"
     ]
    },
    {
     "data": {
      "image/png": "[encoded data removed]",
      "text/plain": [
       "plot without title"
      ]
     },
     "metadata": {},
     "output_type": "display_data"
    }
   ],
   "source": [
    "sampleDists <- dist(t(assay(rld)))\n",
    "\n",
    "sampleDistMatrix <- as.matrix(sampleDists)\n",
    "\n",
    "rownames(sampleDistMatrix) <- paste(rld$condition)\n",
    "\n",
    "colnames(sampleDistMatrix) <- paste(rld$condition)\n",
    "\n",
    "colors <- colorRampPalette( rev(brewer.pal(9, \"Blues\")) )(255)\n",
    "\n",
    "heatmap(sampleDistMatrix,\n",
    "clustering_distance_rows=sampleDists,\n",
    "clustering_distance_cols=sampleDists,\n",
    "col=colors)"
   ]
  },
  {
   "cell_type": "code",
   "execution_count": null,
   "metadata": {
    "collapsed": true
   },
   "outputs": [],
   "source": []
  }
 ],
 "metadata": {
  "kernelspec": {
   "display_name": "R",
   "language": "R",
   "name": "ir"
  },
  "language_info": {
   "codemirror_mode": "r",
   "file_extension": ".r",
   "mimetype": "text/x-r-source",
   "name": "R",
   "pygments_lexer": "r",
   "version": "3.6.0"
  }
 },
 "nbformat": 4,
 "nbformat_minor": 1
}
