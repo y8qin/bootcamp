{
 "cells": [
  {
   "cell_type": "code",
   "execution_count": 1,
   "metadata": {
    "collapsed": true
   },
   "outputs": [],
   "source": [
    "import pandas as pd"
   ]
  },
  {
   "cell_type": "code",
   "execution_count": 2,
   "metadata": {},
   "outputs": [
    {
     "name": "stdout",
     "output_type": "stream",
     "text": [
      "(20367, 6)\n"
     ]
    },
    {
     "data": {
      "text/html": [
       "<div>\n",
       "<table border=\"1\" class=\"dataframe\">\n",
       "  <thead>\n",
       "    <tr style=\"text-align: right;\">\n",
       "      <th></th>\n",
       "      <th>baseMean</th>\n",
       "      <th>log2FoldChange</th>\n",
       "      <th>lfcSE</th>\n",
       "      <th>stat</th>\n",
       "      <th>pvalue</th>\n",
       "      <th>padj</th>\n",
       "    </tr>\n",
       "  </thead>\n",
       "  <tbody>\n",
       "    <tr>\n",
       "      <th>ENSG00000227232.4</th>\n",
       "      <td>330.362699</td>\n",
       "      <td>0.118182</td>\n",
       "      <td>0.169582</td>\n",
       "      <td>0.696902</td>\n",
       "      <td>0.485864</td>\n",
       "      <td>0.677697</td>\n",
       "    </tr>\n",
       "    <tr>\n",
       "      <th>ENSG00000237613.2</th>\n",
       "      <td>2.978620</td>\n",
       "      <td>0.074299</td>\n",
       "      <td>0.077695</td>\n",
       "      <td>0.956300</td>\n",
       "      <td>0.338921</td>\n",
       "      <td>NaN</td>\n",
       "    </tr>\n",
       "    <tr>\n",
       "      <th>ENSG00000238009.2</th>\n",
       "      <td>126.667693</td>\n",
       "      <td>0.190610</td>\n",
       "      <td>0.198421</td>\n",
       "      <td>0.960635</td>\n",
       "      <td>0.336736</td>\n",
       "      <td>NaN</td>\n",
       "    </tr>\n",
       "    <tr>\n",
       "      <th>ENSG00000237683.5</th>\n",
       "      <td>1341.555393</td>\n",
       "      <td>0.614947</td>\n",
       "      <td>0.134191</td>\n",
       "      <td>4.582612</td>\n",
       "      <td>0.000005</td>\n",
       "      <td>0.000216</td>\n",
       "    </tr>\n",
       "    <tr>\n",
       "      <th>ENSG00000239906.1</th>\n",
       "      <td>21.708253</td>\n",
       "      <td>0.323753</td>\n",
       "      <td>0.172286</td>\n",
       "      <td>1.879164</td>\n",
       "      <td>0.060222</td>\n",
       "      <td>NaN</td>\n",
       "    </tr>\n",
       "  </tbody>\n",
       "</table>\n",
       "</div>"
      ],
      "text/plain": [
       "                      baseMean  log2FoldChange     lfcSE      stat    pvalue  \\\n",
       "ENSG00000227232.4   330.362699        0.118182  0.169582  0.696902  0.485864   \n",
       "ENSG00000237613.2     2.978620        0.074299  0.077695  0.956300  0.338921   \n",
       "ENSG00000238009.2   126.667693        0.190610  0.198421  0.960635  0.336736   \n",
       "ENSG00000237683.5  1341.555393        0.614947  0.134191  4.582612  0.000005   \n",
       "ENSG00000239906.1    21.708253        0.323753  0.172286  1.879164  0.060222   \n",
       "\n",
       "                       padj  \n",
       "ENSG00000227232.4  0.677697  \n",
       "ENSG00000237613.2       NaN  \n",
       "ENSG00000238009.2       NaN  \n",
       "ENSG00000237683.5  0.000216  \n",
       "ENSG00000239906.1       NaN  "
      ]
     },
     "execution_count": 2,
     "metadata": {},
     "output_type": "execute_result"
    }
   ],
   "source": [
    "directory = '~/projects/'\n",
    "deseq2_output = pd.read_csv(directory+\"differential_expression.csv\",index_col=0)\n",
    "print deseq2_output.shape\n",
    "deseq2_output.head()"
   ]
  },
  {
   "cell_type": "code",
   "execution_count": null,
   "metadata": {
    "collapsed": true
   },
   "outputs": [],
   "source": []
  },
  {
   "cell_type": "code",
   "execution_count": 3,
   "metadata": {},
   "outputs": [
    {
     "name": "stdout",
     "output_type": "stream",
     "text": [
      "(57820, 1)\n"
     ]
    },
    {
     "data": {
      "text/html": [
       "<div>\n",
       "<table border=\"1\" class=\"dataframe\">\n",
       "  <thead>\n",
       "    <tr style=\"text-align: right;\">\n",
       "      <th></th>\n",
       "      <th>gene_name</th>\n",
       "    </tr>\n",
       "  </thead>\n",
       "  <tbody>\n",
       "    <tr>\n",
       "      <th>ENSG00000242268.2</th>\n",
       "      <td>RP11-368I23.2</td>\n",
       "    </tr>\n",
       "    <tr>\n",
       "      <th>ENSG00000167578.12</th>\n",
       "      <td>RAB4B</td>\n",
       "    </tr>\n",
       "    <tr>\n",
       "      <th>ENSG00000270112.2</th>\n",
       "      <td>RP11-742D12.2</td>\n",
       "    </tr>\n",
       "    <tr>\n",
       "      <th>ENSG00000078237.4</th>\n",
       "      <td>C12orf5</td>\n",
       "    </tr>\n",
       "    <tr>\n",
       "      <th>ENSG00000263642.1</th>\n",
       "      <td>MIR4802</td>\n",
       "    </tr>\n",
       "  </tbody>\n",
       "</table>\n",
       "</div>"
      ],
      "text/plain": [
       "                        gene_name\n",
       "ENSG00000242268.2   RP11-368I23.2\n",
       "ENSG00000167578.12          RAB4B\n",
       "ENSG00000270112.2   RP11-742D12.2\n",
       "ENSG00000078237.4         C12orf5\n",
       "ENSG00000263642.1         MIR4802"
      ]
     },
     "execution_count": 3,
     "metadata": {},
     "output_type": "execute_result"
    }
   ],
   "source": [
    "gene_dir = '/home/ucsd-train16/scratch/annotations/hg19/'\n",
    "gene_names = pd.read_table(gene_dir+\"gencode.v19.annotation.genenames.txt\", names=['gene_name'], index_col=0)\n",
    "print gene_names.shape\n",
    "gene_names.head()"
   ]
  },
  {
   "cell_type": "code",
   "execution_count": 4,
   "metadata": {},
   "outputs": [
    {
     "name": "stdout",
     "output_type": "stream",
     "text": [
      "(20367, 7)\n"
     ]
    },
    {
     "data": {
      "text/html": [
       "<div>\n",
       "<table border=\"1\" class=\"dataframe\">\n",
       "  <thead>\n",
       "    <tr style=\"text-align: right;\">\n",
       "      <th></th>\n",
       "      <th>baseMean</th>\n",
       "      <th>log2FoldChange</th>\n",
       "      <th>lfcSE</th>\n",
       "      <th>stat</th>\n",
       "      <th>pvalue</th>\n",
       "      <th>padj</th>\n",
       "      <th>gene_name</th>\n",
       "    </tr>\n",
       "  </thead>\n",
       "  <tbody>\n",
       "    <tr>\n",
       "      <th>ENSG00000227232.4</th>\n",
       "      <td>330.362699</td>\n",
       "      <td>0.118182</td>\n",
       "      <td>0.169582</td>\n",
       "      <td>0.696902</td>\n",
       "      <td>0.485864</td>\n",
       "      <td>0.677697</td>\n",
       "      <td>WASH7P</td>\n",
       "    </tr>\n",
       "    <tr>\n",
       "      <th>ENSG00000237613.2</th>\n",
       "      <td>2.978620</td>\n",
       "      <td>0.074299</td>\n",
       "      <td>0.077695</td>\n",
       "      <td>0.956300</td>\n",
       "      <td>0.338921</td>\n",
       "      <td>NaN</td>\n",
       "      <td>FAM138A</td>\n",
       "    </tr>\n",
       "    <tr>\n",
       "      <th>ENSG00000238009.2</th>\n",
       "      <td>126.667693</td>\n",
       "      <td>0.190610</td>\n",
       "      <td>0.198421</td>\n",
       "      <td>0.960635</td>\n",
       "      <td>0.336736</td>\n",
       "      <td>NaN</td>\n",
       "      <td>RP11-34P13.7</td>\n",
       "    </tr>\n",
       "    <tr>\n",
       "      <th>ENSG00000237683.5</th>\n",
       "      <td>1341.555393</td>\n",
       "      <td>0.614947</td>\n",
       "      <td>0.134191</td>\n",
       "      <td>4.582612</td>\n",
       "      <td>0.000005</td>\n",
       "      <td>0.000216</td>\n",
       "      <td>AL627309.1</td>\n",
       "    </tr>\n",
       "    <tr>\n",
       "      <th>ENSG00000239906.1</th>\n",
       "      <td>21.708253</td>\n",
       "      <td>0.323753</td>\n",
       "      <td>0.172286</td>\n",
       "      <td>1.879164</td>\n",
       "      <td>0.060222</td>\n",
       "      <td>NaN</td>\n",
       "      <td>RP11-34P13.14</td>\n",
       "    </tr>\n",
       "  </tbody>\n",
       "</table>\n",
       "</div>"
      ],
      "text/plain": [
       "                      baseMean  log2FoldChange     lfcSE      stat    pvalue  \\\n",
       "ENSG00000227232.4   330.362699        0.118182  0.169582  0.696902  0.485864   \n",
       "ENSG00000237613.2     2.978620        0.074299  0.077695  0.956300  0.338921   \n",
       "ENSG00000238009.2   126.667693        0.190610  0.198421  0.960635  0.336736   \n",
       "ENSG00000237683.5  1341.555393        0.614947  0.134191  4.582612  0.000005   \n",
       "ENSG00000239906.1    21.708253        0.323753  0.172286  1.879164  0.060222   \n",
       "\n",
       "                       padj      gene_name  \n",
       "ENSG00000227232.4  0.677697         WASH7P  \n",
       "ENSG00000237613.2       NaN        FAM138A  \n",
       "ENSG00000238009.2       NaN   RP11-34P13.7  \n",
       "ENSG00000237683.5  0.000216     AL627309.1  \n",
       "ENSG00000239906.1       NaN  RP11-34P13.14  "
      ]
     },
     "execution_count": 4,
     "metadata": {},
     "output_type": "execute_result"
    }
   ],
   "source": [
    "deseq2_output_with_genes = deseq2_output.join(gene_names, how='left')\n",
    "print deseq2_output_with_genes.shape\n",
    "deseq2_output_with_genes.head()"
   ]
  },
  {
   "cell_type": "code",
   "execution_count": 5,
   "metadata": {},
   "outputs": [
    {
     "name": "stdout",
     "output_type": "stream",
     "text": [
      "(1270, 7)\n"
     ]
    },
    {
     "data": {
      "text/html": [
       "<div>\n",
       "<table border=\"1\" class=\"dataframe\">\n",
       "  <thead>\n",
       "    <tr style=\"text-align: right;\">\n",
       "      <th></th>\n",
       "      <th>baseMean</th>\n",
       "      <th>log2FoldChange</th>\n",
       "      <th>lfcSE</th>\n",
       "      <th>stat</th>\n",
       "      <th>pvalue</th>\n",
       "      <th>padj</th>\n",
       "      <th>gene_name</th>\n",
       "    </tr>\n",
       "  </thead>\n",
       "  <tbody>\n",
       "    <tr>\n",
       "      <th>ENSG00000237683.5</th>\n",
       "      <td>1341.555393</td>\n",
       "      <td>0.614947</td>\n",
       "      <td>0.134191</td>\n",
       "      <td>4.582612</td>\n",
       "      <td>4.592035e-06</td>\n",
       "      <td>2.157807e-04</td>\n",
       "      <td>AL627309.1</td>\n",
       "    </tr>\n",
       "    <tr>\n",
       "      <th>ENSG00000131591.13</th>\n",
       "      <td>643.246652</td>\n",
       "      <td>0.569737</td>\n",
       "      <td>0.171758</td>\n",
       "      <td>3.317085</td>\n",
       "      <td>9.096200e-04</td>\n",
       "      <td>1.250454e-02</td>\n",
       "      <td>C1orf159</td>\n",
       "    </tr>\n",
       "    <tr>\n",
       "      <th>ENSG00000162441.7</th>\n",
       "      <td>623.046038</td>\n",
       "      <td>-0.480707</td>\n",
       "      <td>0.145380</td>\n",
       "      <td>-3.306563</td>\n",
       "      <td>9.444820e-04</td>\n",
       "      <td>1.277815e-02</td>\n",
       "      <td>LZIC</td>\n",
       "    </tr>\n",
       "    <tr>\n",
       "      <th>ENSG00000120948.11</th>\n",
       "      <td>5858.325063</td>\n",
       "      <td>-0.541621</td>\n",
       "      <td>0.089362</td>\n",
       "      <td>-6.061006</td>\n",
       "      <td>1.352732e-09</td>\n",
       "      <td>2.505788e-07</td>\n",
       "      <td>TARDBP</td>\n",
       "    </tr>\n",
       "    <tr>\n",
       "      <th>ENSG00000198793.8</th>\n",
       "      <td>3341.760589</td>\n",
       "      <td>-0.283691</td>\n",
       "      <td>0.093098</td>\n",
       "      <td>-3.047215</td>\n",
       "      <td>2.309728e-03</td>\n",
       "      <td>2.315434e-02</td>\n",
       "      <td>MTOR</td>\n",
       "    </tr>\n",
       "  </tbody>\n",
       "</table>\n",
       "</div>"
      ],
      "text/plain": [
       "                       baseMean  log2FoldChange     lfcSE      stat  \\\n",
       "ENSG00000237683.5   1341.555393        0.614947  0.134191  4.582612   \n",
       "ENSG00000131591.13   643.246652        0.569737  0.171758  3.317085   \n",
       "ENSG00000162441.7    623.046038       -0.480707  0.145380 -3.306563   \n",
       "ENSG00000120948.11  5858.325063       -0.541621  0.089362 -6.061006   \n",
       "ENSG00000198793.8   3341.760589       -0.283691  0.093098 -3.047215   \n",
       "\n",
       "                          pvalue          padj   gene_name  \n",
       "ENSG00000237683.5   4.592035e-06  2.157807e-04  AL627309.1  \n",
       "ENSG00000131591.13  9.096200e-04  1.250454e-02    C1orf159  \n",
       "ENSG00000162441.7   9.444820e-04  1.277815e-02        LZIC  \n",
       "ENSG00000120948.11  1.352732e-09  2.505788e-07      TARDBP  \n",
       "ENSG00000198793.8   2.309728e-03  2.315434e-02        MTOR  "
      ]
     },
     "execution_count": 5,
     "metadata": {},
     "output_type": "execute_result"
    }
   ],
   "source": [
    "sig_genes = deseq2_output_with_genes.loc[deseq2_output_with_genes['padj'] < 0.05]\n",
    "print sig_genes.shape\n",
    "sig_genes.head()"
   ]
  },
  {
   "cell_type": "code",
   "execution_count": 6,
   "metadata": {
    "collapsed": true
   },
   "outputs": [],
   "source": [
    "sig_genes.to_csv(directory+'sig_diff_expr_gene.csv')"
   ]
  },
  {
   "cell_type": "code",
   "execution_count": null,
   "metadata": {
    "collapsed": true
   },
   "outputs": [],
   "source": []
  },
  {
   "cell_type": "code",
   "execution_count": 35,
   "metadata": {},
   "outputs": [
    {
     "data": {
      "text/html": [
       "<div>\n",
       "<table border=\"1\" class=\"dataframe\">\n",
       "  <thead>\n",
       "    <tr style=\"text-align: right;\">\n",
       "      <th></th>\n",
       "      <th>baseMean</th>\n",
       "      <th>log2FoldChange</th>\n",
       "      <th>lfcSE</th>\n",
       "      <th>stat</th>\n",
       "      <th>pvalue</th>\n",
       "      <th>padj</th>\n",
       "      <th>gene_name</th>\n",
       "    </tr>\n",
       "  </thead>\n",
       "  <tbody>\n",
       "    <tr>\n",
       "      <th>ENSG00000187772.6</th>\n",
       "      <td>1378.757254</td>\n",
       "      <td>-1.484138</td>\n",
       "      <td>0.123014</td>\n",
       "      <td>-12.064751</td>\n",
       "      <td>1.621515e-33</td>\n",
       "      <td>6.908466e-30</td>\n",
       "      <td>LIN28B</td>\n",
       "    </tr>\n",
       "  </tbody>\n",
       "</table>\n",
       "</div>"
      ],
      "text/plain": [
       "                      baseMean  log2FoldChange     lfcSE       stat  \\\n",
       "ENSG00000187772.6  1378.757254       -1.484138  0.123014 -12.064751   \n",
       "\n",
       "                         pvalue          padj gene_name  \n",
       "ENSG00000187772.6  1.621515e-33  6.908466e-30    LIN28B  "
      ]
     },
     "execution_count": 35,
     "metadata": {},
     "output_type": "execute_result"
    }
   ],
   "source": [
    "#Handy way to look up genes that you are specifically interested in\n",
    "deseq2_output_with_genes.loc[deseq2_output_with_genes['gene_name'] == 'LIN28B']"
   ]
  },
  {
   "cell_type": "code",
   "execution_count": null,
   "metadata": {
    "collapsed": true
   },
   "outputs": [],
   "source": []
  }
 ],
 "metadata": {
  "kernelspec": {
   "display_name": "Python [Root]",
   "language": "python",
   "name": "Python [Root]"
  },
  "language_info": {
   "codemirror_mode": {
    "name": "ipython",
    "version": 2
   },
   "file_extension": ".py",
   "mimetype": "text/x-python",
   "name": "python",
   "nbconvert_exporter": "python",
   "pygments_lexer": "ipython2",
   "version": "2.7.12"
  }
 },
 "nbformat": 4,
 "nbformat_minor": 1
}
