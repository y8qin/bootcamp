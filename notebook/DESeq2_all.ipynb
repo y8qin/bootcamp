{
 "cells": [
  {
   "cell_type": "code",
   "execution_count": 11,
   "metadata": {},
   "outputs": [],
   "source": [
    "library(\"DESeq2\")\n",
    "\n",
    "library(\"ggplot2\")\n",
    "\n",
    "library(\"RColorBrewer\")"
   ]
  },
  {
   "cell_type": "code",
   "execution_count": 12,
   "metadata": {},
   "outputs": [
    {
     "data": {
      "text/html": [
       "<table>\n",
       "<thead><tr><th></th><th scope=col>lin28b_ctrl_rep1</th><th scope=col>lin28b_ctrl_rep2</th><th scope=col>lin28b_kd_rep1</th><th scope=col>lin28b_kd_rep2</th></tr></thead>\n",
       "<tbody>\n",
       "\t<tr><th scope=row>ENSG00000223972.4</th><td>  0</td><td>  2</td><td>  0</td><td>  0</td></tr>\n",
       "\t<tr><th scope=row>ENSG00000227232.4</th><td>294</td><td>294</td><td>334</td><td>410</td></tr>\n",
       "\t<tr><th scope=row>ENSG00000243485.2</th><td>  0</td><td>  0</td><td>  0</td><td>  0</td></tr>\n",
       "\t<tr><th scope=row>ENSG00000237613.2</th><td>  0</td><td>  2</td><td>  4</td><td>  7</td></tr>\n",
       "\t<tr><th scope=row>ENSG00000268020.2</th><td>  0</td><td>  0</td><td>  0</td><td>  0</td></tr>\n",
       "\t<tr><th scope=row>ENSG00000240361.1</th><td>  0</td><td>  0</td><td>  0</td><td>  0</td></tr>\n",
       "</tbody>\n",
       "</table>\n"
      ],
      "text/latex": [
       "\\begin{tabular}{r|llll}\n",
       "  & lin28b\\_ctrl\\_rep1 & lin28b\\_ctrl\\_rep2 & lin28b\\_kd\\_rep1 & lin28b\\_kd\\_rep2\\\\\n",
       "\\hline\n",
       "\tENSG00000223972.4 &   0 &   2 &   0 &   0\\\\\n",
       "\tENSG00000227232.4 & 294 & 294 & 334 & 410\\\\\n",
       "\tENSG00000243485.2 &   0 &   0 &   0 &   0\\\\\n",
       "\tENSG00000237613.2 &   0 &   2 &   4 &   7\\\\\n",
       "\tENSG00000268020.2 &   0 &   0 &   0 &   0\\\\\n",
       "\tENSG00000240361.1 &   0 &   0 &   0 &   0\\\\\n",
       "\\end{tabular}\n"
      ],
      "text/markdown": [
       "\n",
       "| <!--/--> | lin28b_ctrl_rep1 | lin28b_ctrl_rep2 | lin28b_kd_rep1 | lin28b_kd_rep2 | \n",
       "|---|---|---|---|---|---|\n",
       "| ENSG00000223972.4 |   0 |   2 |   0 |   0 | \n",
       "| ENSG00000227232.4 | 294 | 294 | 334 | 410 | \n",
       "| ENSG00000243485.2 |   0 |   0 |   0 |   0 | \n",
       "| ENSG00000237613.2 |   0 |   2 |   4 |   7 | \n",
       "| ENSG00000268020.2 |   0 |   0 |   0 |   0 | \n",
       "| ENSG00000240361.1 |   0 |   0 |   0 |   0 | \n",
       "\n",
       "\n"
      ],
      "text/plain": [
       "                  lin28b_ctrl_rep1 lin28b_ctrl_rep2 lin28b_kd_rep1\n",
       "ENSG00000223972.4   0                2                0           \n",
       "ENSG00000227232.4 294              294              334           \n",
       "ENSG00000243485.2   0                0                0           \n",
       "ENSG00000237613.2   0                2                4           \n",
       "ENSG00000268020.2   0                0                0           \n",
       "ENSG00000240361.1   0                0                0           \n",
       "                  lin28b_kd_rep2\n",
       "ENSG00000223972.4   0           \n",
       "ENSG00000227232.4 410           \n",
       "ENSG00000243485.2   0           \n",
       "ENSG00000237613.2   7           \n",
       "ENSG00000268020.2   0           \n",
       "ENSG00000240361.1   0           "
      ]
     },
     "metadata": {},
     "output_type": "display_data"
    }
   ],
   "source": [
    "countFile <- '~/projects/counts_for_deseq2.csv'\n",
    "counts <- read.csv(countFile,\n",
    "                  header=TRUE, row.names=1)\n",
    "\n",
    "counts$Length <- NULL\n",
    "\n",
    "head(counts)"
   ]
  },
  {
   "cell_type": "code",
   "execution_count": 13,
   "metadata": {},
   "outputs": [
    {
     "data": {
      "text/html": [
       "<table>\n",
       "<thead><tr><th></th><th scope=col>condition</th></tr></thead>\n",
       "<tbody>\n",
       "\t<tr><th scope=row>lin28b_ctrl_rep1</th><td>control  </td></tr>\n",
       "\t<tr><th scope=row>lin28b_ctrl_rep2</th><td>control  </td></tr>\n",
       "\t<tr><th scope=row>lin28b_kd_rep1</th><td>knockdown</td></tr>\n",
       "\t<tr><th scope=row>lin28b_kd_rep2</th><td>knockdown</td></tr>\n",
       "</tbody>\n",
       "</table>\n"
      ],
      "text/latex": [
       "\\begin{tabular}{r|l}\n",
       "  & condition\\\\\n",
       "\\hline\n",
       "\tlin28b\\_ctrl\\_rep1 & control  \\\\\n",
       "\tlin28b\\_ctrl\\_rep2 & control  \\\\\n",
       "\tlin28b\\_kd\\_rep1 & knockdown\\\\\n",
       "\tlin28b\\_kd\\_rep2 & knockdown\\\\\n",
       "\\end{tabular}\n"
      ],
      "text/markdown": [
       "\n",
       "| <!--/--> | condition | \n",
       "|---|---|---|---|\n",
       "| lin28b_ctrl_rep1 | control   | \n",
       "| lin28b_ctrl_rep2 | control   | \n",
       "| lin28b_kd_rep1 | knockdown | \n",
       "| lin28b_kd_rep2 | knockdown | \n",
       "\n",
       "\n"
      ],
      "text/plain": [
       "                 condition\n",
       "lin28b_ctrl_rep1 control  \n",
       "lin28b_ctrl_rep2 control  \n",
       "lin28b_kd_rep1   knockdown\n",
       "lin28b_kd_rep2   knockdown"
      ]
     },
     "metadata": {},
     "output_type": "display_data"
    }
   ],
   "source": [
    "colFile <- '/home/ucsd-train16/scratch/processed_data/conditions_matrix_deseq2.csv'\n",
    "col_data <- read.csv(colFile,\n",
    "                  header=TRUE, row.names=1)\n",
    "\n",
    "head(col_data)"
   ]
  },
  {
   "cell_type": "code",
   "execution_count": 14,
   "metadata": {
    "collapsed": true
   },
   "outputs": [],
   "source": [
    "dds <- DESeqDataSetFromMatrix(countData = counts,\n",
    "                              colData = col_data,\n",
    "                              design = ~ condition)"
   ]
  },
  {
   "cell_type": "code",
   "execution_count": 15,
   "metadata": {},
   "outputs": [
    {
     "data": {
      "text/plain": [
       "class: DESeqDataSet \n",
       "dim: 57820 4 \n",
       "metadata(1): version\n",
       "assays(1): counts\n",
       "rownames(57820): ENSG00000223972.4 ENSG00000227232.4 ...\n",
       "  ENSG00000210195.2 ENSG00000210196.2\n",
       "rowData names(0):\n",
       "colnames(4): lin28b_ctrl_rep1 lin28b_ctrl_rep2 lin28b_kd_rep1\n",
       "  lin28b_kd_rep2\n",
       "colData names(1): condition"
      ]
     },
     "metadata": {},
     "output_type": "display_data"
    }
   ],
   "source": [
    "dds"
   ]
  },
  {
   "cell_type": "markdown",
   "metadata": {},
   "source": [
    "### filter gene expressions"
   ]
  },
  {
   "cell_type": "code",
   "execution_count": 17,
   "metadata": {},
   "outputs": [
    {
     "data": {
      "text/html": [
       "<table>\n",
       "<thead><tr><th></th><th scope=col>lin28b_ctrl_rep1</th><th scope=col>lin28b_ctrl_rep2</th><th scope=col>lin28b_kd_rep1</th><th scope=col>lin28b_kd_rep2</th></tr></thead>\n",
       "<tbody>\n",
       "\t<tr><th scope=row>ENSG00000223972.4</th><td>  0</td><td>  2</td><td>  0</td><td>  0</td></tr>\n",
       "\t<tr><th scope=row>ENSG00000227232.4</th><td>294</td><td>294</td><td>334</td><td>410</td></tr>\n",
       "\t<tr><th scope=row>ENSG00000243485.2</th><td>  0</td><td>  0</td><td>  0</td><td>  0</td></tr>\n",
       "\t<tr><th scope=row>ENSG00000237613.2</th><td>  0</td><td>  2</td><td>  4</td><td>  7</td></tr>\n",
       "\t<tr><th scope=row>ENSG00000268020.2</th><td>  0</td><td>  0</td><td>  0</td><td>  0</td></tr>\n",
       "\t<tr><th scope=row>ENSG00000240361.1</th><td>  0</td><td>  0</td><td>  0</td><td>  0</td></tr>\n",
       "</tbody>\n",
       "</table>\n"
      ],
      "text/latex": [
       "\\begin{tabular}{r|llll}\n",
       "  & lin28b\\_ctrl\\_rep1 & lin28b\\_ctrl\\_rep2 & lin28b\\_kd\\_rep1 & lin28b\\_kd\\_rep2\\\\\n",
       "\\hline\n",
       "\tENSG00000223972.4 &   0 &   2 &   0 &   0\\\\\n",
       "\tENSG00000227232.4 & 294 & 294 & 334 & 410\\\\\n",
       "\tENSG00000243485.2 &   0 &   0 &   0 &   0\\\\\n",
       "\tENSG00000237613.2 &   0 &   2 &   4 &   7\\\\\n",
       "\tENSG00000268020.2 &   0 &   0 &   0 &   0\\\\\n",
       "\tENSG00000240361.1 &   0 &   0 &   0 &   0\\\\\n",
       "\\end{tabular}\n"
      ],
      "text/markdown": [
       "\n",
       "| <!--/--> | lin28b_ctrl_rep1 | lin28b_ctrl_rep2 | lin28b_kd_rep1 | lin28b_kd_rep2 | \n",
       "|---|---|---|---|---|---|\n",
       "| ENSG00000223972.4 |   0 |   2 |   0 |   0 | \n",
       "| ENSG00000227232.4 | 294 | 294 | 334 | 410 | \n",
       "| ENSG00000243485.2 |   0 |   0 |   0 |   0 | \n",
       "| ENSG00000237613.2 |   0 |   2 |   4 |   7 | \n",
       "| ENSG00000268020.2 |   0 |   0 |   0 |   0 | \n",
       "| ENSG00000240361.1 |   0 |   0 |   0 |   0 | \n",
       "\n",
       "\n"
      ],
      "text/plain": [
       "                  lin28b_ctrl_rep1 lin28b_ctrl_rep2 lin28b_kd_rep1\n",
       "ENSG00000223972.4   0                2                0           \n",
       "ENSG00000227232.4 294              294              334           \n",
       "ENSG00000243485.2   0                0                0           \n",
       "ENSG00000237613.2   0                2                4           \n",
       "ENSG00000268020.2   0                0                0           \n",
       "ENSG00000240361.1   0                0                0           \n",
       "                  lin28b_kd_rep2\n",
       "ENSG00000223972.4   0           \n",
       "ENSG00000227232.4 410           \n",
       "ENSG00000243485.2   0           \n",
       "ENSG00000237613.2   7           \n",
       "ENSG00000268020.2   0           \n",
       "ENSG00000240361.1   0           "
      ]
     },
     "metadata": {},
     "output_type": "display_data"
    }
   ],
   "source": [
    "head(counts(dds))"
   ]
  },
  {
   "cell_type": "code",
   "execution_count": 16,
   "metadata": {},
   "outputs": [
    {
     "data": {
      "text/html": [
       "<dl class=dl-horizontal>\n",
       "\t<dt>ENSG00000223972.4</dt>\n",
       "\t\t<dd>FALSE</dd>\n",
       "\t<dt>ENSG00000227232.4</dt>\n",
       "\t\t<dd>TRUE</dd>\n",
       "\t<dt>ENSG00000243485.2</dt>\n",
       "\t\t<dd>FALSE</dd>\n",
       "\t<dt>ENSG00000237613.2</dt>\n",
       "\t\t<dd>TRUE</dd>\n",
       "\t<dt>ENSG00000268020.2</dt>\n",
       "\t\t<dd>FALSE</dd>\n",
       "\t<dt>ENSG00000240361.1</dt>\n",
       "\t\t<dd>FALSE</dd>\n",
       "</dl>\n"
      ],
      "text/latex": [
       "\\begin{description*}\n",
       "\\item[ENSG00000223972.4] FALSE\n",
       "\\item[ENSG00000227232.4] TRUE\n",
       "\\item[ENSG00000243485.2] FALSE\n",
       "\\item[ENSG00000237613.2] TRUE\n",
       "\\item[ENSG00000268020.2] FALSE\n",
       "\\item[ENSG00000240361.1] FALSE\n",
       "\\end{description*}\n"
      ],
      "text/markdown": [
       "ENSG00000223972.4\n",
       ":   FALSEENSG00000227232.4\n",
       ":   TRUEENSG00000243485.2\n",
       ":   FALSEENSG00000237613.2\n",
       ":   TRUEENSG00000268020.2\n",
       ":   FALSEENSG00000240361.1\n",
       ":   FALSE\n",
       "\n"
      ],
      "text/plain": [
       "ENSG00000223972.4 ENSG00000227232.4 ENSG00000243485.2 ENSG00000237613.2 \n",
       "            FALSE              TRUE             FALSE              TRUE \n",
       "ENSG00000268020.2 ENSG00000240361.1 \n",
       "            FALSE             FALSE "
      ]
     },
     "metadata": {},
     "output_type": "display_data"
    }
   ],
   "source": [
    "rowSums(head(counts(dds))) > 4"
   ]
  },
  {
   "cell_type": "code",
   "execution_count": 18,
   "metadata": {
    "collapsed": true
   },
   "outputs": [],
   "source": [
    "dds <- dds[ rowSums(counts(dds)) > 4, ]"
   ]
  },
  {
   "cell_type": "code",
   "execution_count": 20,
   "metadata": {},
   "outputs": [
    {
     "name": "stderr",
     "output_type": "stream",
     "text": [
      "estimating size factors\n",
      "estimating dispersions\n",
      "gene-wise dispersion estimates\n",
      "mean-dispersion relationship\n",
      "final dispersion estimates\n",
      "fitting model and testing\n"
     ]
    }
   ],
   "source": [
    "dds <- DESeq(dds)"
   ]
  },
  {
   "cell_type": "code",
   "execution_count": 19,
   "metadata": {},
   "outputs": [
    {
     "data": {
      "text/plain": [
       "class: DESeqDataSet \n",
       "dim: 20367 4 \n",
       "metadata(1): version\n",
       "assays(1): counts\n",
       "rownames(20367): ENSG00000227232.4 ENSG00000237613.2 ...\n",
       "  ENSG00000210195.2 ENSG00000210196.2\n",
       "rowData names(0):\n",
       "colnames(4): lin28b_ctrl_rep1 lin28b_ctrl_rep2 lin28b_kd_rep1\n",
       "  lin28b_kd_rep2\n",
       "colData names(1): condition"
      ]
     },
     "metadata": {},
     "output_type": "display_data"
    }
   ],
   "source": [
    "dds"
   ]
  },
  {
   "cell_type": "code",
   "execution_count": 21,
   "metadata": {},
   "outputs": [
    {
     "data": {
      "text/plain": [
       "class: DESeqDataSet \n",
       "dim: 20367 4 \n",
       "metadata(1): version\n",
       "assays(3): counts mu cooks\n",
       "rownames(20367): ENSG00000227232.4 ENSG00000237613.2 ...\n",
       "  ENSG00000210195.2 ENSG00000210196.2\n",
       "rowData names(27): baseMean baseVar ... deviance maxCooks\n",
       "colnames(4): lin28b_ctrl_rep1 lin28b_ctrl_rep2 lin28b_kd_rep1\n",
       "  lin28b_kd_rep2\n",
       "colData names(2): condition sizeFactor"
      ]
     },
     "metadata": {},
     "output_type": "display_data"
    }
   ],
   "source": [
    "dds"
   ]
  },
  {
   "cell_type": "code",
   "execution_count": 26,
   "metadata": {},
   "outputs": [],
   "source": [
    "#as.data.frame(res)"
   ]
  },
  {
   "cell_type": "code",
   "execution_count": 22,
   "metadata": {},
   "outputs": [
    {
     "name": "stdout",
     "output_type": "stream",
     "text": [
      "\n",
      "out of 20367 with nonzero total read count\n",
      "adjusted p-value < 0.1\n",
      "LFC > 0 (up)     : 749, 3.7% \n",
      "LFC < 0 (down)   : 1131, 5.6% \n",
      "outliers [1]     : 0, 0% \n",
      "low counts [2]   : 11846, 58% \n",
      "(mean count < 211)\n",
      "[1] see 'cooksCutoff' argument of ?results\n",
      "[2] see 'independentFiltering' argument of ?results\n",
      "\n"
     ]
    }
   ],
   "source": [
    "res <- results(dds)\n",
    "\n",
    "outFname = \"~/projects/differential_expression.csv\"\n",
    "write.csv(as.data.frame(res), file=outFname)\n",
    "\n",
    "summary(res)"
   ]
  },
  {
   "cell_type": "code",
   "execution_count": 37,
   "metadata": {
    "collapsed": true
   },
   "outputs": [],
   "source": [
    "res_df <- as.data.frame(res)"
   ]
  },
  {
   "cell_type": "markdown",
   "metadata": {},
   "source": [
    "## Add Hugo gene names"
   ]
  },
  {
   "cell_type": "code",
   "execution_count": 44,
   "metadata": {},
   "outputs": [],
   "source": [
    "gene_dir = '/home/ucsd-train16/scratch/annotations/hg19/'\n",
    "gene_names <- read.table(paste0(gene_dir,\"gencode.v19.annotation.genenames.txt\"),\n",
    "                         header=FALSE, row.names=1)"
   ]
  },
  {
   "cell_type": "code",
   "execution_count": 68,
   "metadata": {
    "collapsed": true
   },
   "outputs": [],
   "source": [
    "gene_names$gene_ensbl = rownames(gene_names)\n",
    "\n",
    "res_df$gene_ensbl = rownames(res_df)"
   ]
  },
  {
   "cell_type": "code",
   "execution_count": 72,
   "metadata": {},
   "outputs": [],
   "source": [
    "res_df_genes = merge(res_df,gene_names,by = 'gene_ensbl')"
   ]
  },
  {
   "cell_type": "code",
   "execution_count": 74,
   "metadata": {},
   "outputs": [
    {
     "data": {
      "text/html": [
       "<ol class=list-inline>\n",
       "\t<li>20367</li>\n",
       "\t<li>8</li>\n",
       "</ol>\n"
      ],
      "text/latex": [
       "\\begin{enumerate*}\n",
       "\\item 20367\n",
       "\\item 8\n",
       "\\end{enumerate*}\n"
      ],
      "text/markdown": [
       "1. 20367\n",
       "2. 8\n",
       "\n",
       "\n"
      ],
      "text/plain": [
       "[1] 20367     8"
      ]
     },
     "metadata": {},
     "output_type": "display_data"
    }
   ],
   "source": [
    "dim(res_df_genes)"
   ]
  },
  {
   "cell_type": "markdown",
   "metadata": {},
   "source": [
    "## Filter genes by p < 0.05"
   ]
  },
  {
   "cell_type": "code",
   "execution_count": null,
   "metadata": {
    "collapsed": true
   },
   "outputs": [],
   "source": []
  },
  {
   "cell_type": "code",
   "execution_count": 75,
   "metadata": {},
   "outputs": [],
   "source": [
    "sig_gens <- res_df[which(res_df$padj < 0.05),]"
   ]
  },
  {
   "cell_type": "code",
   "execution_count": 76,
   "metadata": {
    "collapsed": true
   },
   "outputs": [],
   "source": [
    "write.csv(sig_gens,'~/projects/significant_genes_R.csv')"
   ]
  },
  {
   "cell_type": "markdown",
   "metadata": {},
   "source": [
    "## Plot"
   ]
  },
  {
   "cell_type": "code",
   "execution_count": 27,
   "metadata": {},
   "outputs": [
    {
     "data": {
      "image/png": "[encoded data removed]",
      "text/plain": [
       "Plot with title \"DESeq2\""
      ]
     },
     "metadata": {},
     "output_type": "display_data"
    }
   ],
   "source": [
    "plotMA(res, main=\"DESeq2\", ylim=c(-2,2))\n"
   ]
  },
  {
   "cell_type": "code",
   "execution_count": 28,
   "metadata": {},
   "outputs": [
    {
     "data": {
      "image/png": "[encoded data removed]",
      "text/plain": [
       "Plot with title \"alpha=0.05\""
      ]
     },
     "metadata": {},
     "output_type": "display_data"
    }
   ],
   "source": [
    "res05 <- results(dds, alpha=0.05)\n",
    "\n",
    "plotMA(res05, main=\"alpha=0.05\", ylim=c(-2,2))\n"
   ]
  },
  {
   "cell_type": "code",
   "execution_count": 30,
   "metadata": {
    "collapsed": true
   },
   "outputs": [],
   "source": [
    "rld <- rlog(dds)\n",
    "vsd <- varianceStabilizingTransformation(dds)\n",
    "\n",
    "data <- plotPCA(rld, intgroup=\"condition\", returnData=TRUE)\n",
    "percentVar <- round(100 * attr(data, \"percentVar\"))"
   ]
  },
  {
   "cell_type": "code",
   "execution_count": 31,
   "metadata": {},
   "outputs": [
    {
     "data": {
      "text/html": [
       "<table>\n",
       "<thead><tr><th></th><th scope=col>PC1</th><th scope=col>PC2</th><th scope=col>group</th><th scope=col>condition</th><th scope=col>name</th></tr></thead>\n",
       "<tbody>\n",
       "\t<tr><th scope=row>lin28b_ctrl_rep1</th><td>-9.643539       </td><td> 0.6642992      </td><td>control         </td><td>control         </td><td>lin28b_ctrl_rep1</td></tr>\n",
       "\t<tr><th scope=row>lin28b_ctrl_rep2</th><td> 1.805480       </td><td>-3.8890278      </td><td>control         </td><td>control         </td><td>lin28b_ctrl_rep2</td></tr>\n",
       "\t<tr><th scope=row>lin28b_kd_rep1</th><td> 4.454663       </td><td> 2.3497597      </td><td>knockdown       </td><td>knockdown       </td><td>lin28b_kd_rep1  </td></tr>\n",
       "\t<tr><th scope=row>lin28b_kd_rep2</th><td> 3.383396       </td><td> 0.8749689      </td><td>knockdown       </td><td>knockdown       </td><td>lin28b_kd_rep2  </td></tr>\n",
       "</tbody>\n",
       "</table>\n"
      ],
      "text/latex": [
       "\\begin{tabular}{r|lllll}\n",
       "  & PC1 & PC2 & group & condition & name\\\\\n",
       "\\hline\n",
       "\tlin28b\\_ctrl\\_rep1 & -9.643539            &  0.6642992           & control              & control              & lin28b\\_ctrl\\_rep1\\\\\n",
       "\tlin28b\\_ctrl\\_rep2 &  1.805480            & -3.8890278           & control              & control              & lin28b\\_ctrl\\_rep2\\\\\n",
       "\tlin28b\\_kd\\_rep1 &  4.454663            &  2.3497597           & knockdown            & knockdown            & lin28b\\_kd\\_rep1  \\\\\n",
       "\tlin28b\\_kd\\_rep2 &  3.383396            &  0.8749689           & knockdown            & knockdown            & lin28b\\_kd\\_rep2  \\\\\n",
       "\\end{tabular}\n"
      ],
      "text/markdown": [
       "\n",
       "| <!--/--> | PC1 | PC2 | group | condition | name | \n",
       "|---|---|---|---|\n",
       "| lin28b_ctrl_rep1 | -9.643539        |  0.6642992       | control          | control          | lin28b_ctrl_rep1 | \n",
       "| lin28b_ctrl_rep2 |  1.805480        | -3.8890278       | control          | control          | lin28b_ctrl_rep2 | \n",
       "| lin28b_kd_rep1 |  4.454663        |  2.3497597       | knockdown        | knockdown        | lin28b_kd_rep1   | \n",
       "| lin28b_kd_rep2 |  3.383396        |  0.8749689       | knockdown        | knockdown        | lin28b_kd_rep2   | \n",
       "\n",
       "\n"
      ],
      "text/plain": [
       "                 PC1       PC2        group     condition name            \n",
       "lin28b_ctrl_rep1 -9.643539  0.6642992 control   control   lin28b_ctrl_rep1\n",
       "lin28b_ctrl_rep2  1.805480 -3.8890278 control   control   lin28b_ctrl_rep2\n",
       "lin28b_kd_rep1    4.454663  2.3497597 knockdown knockdown lin28b_kd_rep1  \n",
       "lin28b_kd_rep2    3.383396  0.8749689 knockdown knockdown lin28b_kd_rep2  "
      ]
     },
     "metadata": {},
     "output_type": "display_data"
    }
   ],
   "source": [
    "data"
   ]
  },
  {
   "cell_type": "code",
   "execution_count": 32,
   "metadata": {},
   "outputs": [
    {
     "data": {},
     "metadata": {},
     "output_type": "display_data"
    },
    {
     "data": {
      "image/png": "[encoded data removed]",
      "text/plain": [
       "plot without title"
      ]
     },
     "metadata": {},
     "output_type": "display_data"
    }
   ],
   "source": [
    "ggplot(data, aes(PC1, PC2, color=condition)) +\n",
    "    geom_point(size=3) +\n",
    "    xlab(paste0(\"PC1: \",percentVar[1],\"% variance\")) + \n",
    "    ylab(paste0(\"PC2: \",percentVar[2],\"% variance\"))"
   ]
  },
  {
   "cell_type": "code",
   "execution_count": 13,
   "metadata": {},
   "outputs": [
    {
     "data": {
      "text/html": [
       "<ol class=list-inline>\n",
       "\t<li>83</li>\n",
       "\t<li>14</li>\n",
       "</ol>\n"
      ],
      "text/latex": [
       "\\begin{enumerate*}\n",
       "\\item 83\n",
       "\\item 14\n",
       "\\end{enumerate*}\n"
      ],
      "text/markdown": [
       "1. 83\n",
       "2. 14\n",
       "\n",
       "\n"
      ],
      "text/plain": [
       "[1] 83 14"
      ]
     },
     "metadata": {},
     "output_type": "display_data"
    }
   ],
   "source": [
    "percentVar"
   ]
  },
  {
   "cell_type": "code",
   "execution_count": 34,
   "metadata": {},
   "outputs": [
    {
     "data": {
      "text/plain": [
       "                 lin28b_ctrl_rep1 lin28b_ctrl_rep2 lin28b_kd_rep1\n",
       "lin28b_ctrl_rep2        15.764386                                \n",
       "lin28b_kd_rep1          22.036714        14.520010               \n",
       "lin28b_kd_rep2          18.954493        11.805623       8.316198"
      ]
     },
     "metadata": {},
     "output_type": "display_data"
    }
   ],
   "source": [
    "dist(t(assay(rld)))"
   ]
  },
  {
   "cell_type": "code",
   "execution_count": 36,
   "metadata": {},
   "outputs": [
    {
     "name": "stderr",
     "output_type": "stream",
     "text": [
      "Warning message in plot.window(...):\n",
      "\"\"clustering_distance_rows\" is not a graphical parameter\"Warning message in plot.window(...):\n",
      "\"\"clustering_distance_cols\" is not a graphical parameter\"Warning message in plot.xy(xy, type, ...):\n",
      "\"\"clustering_distance_rows\" is not a graphical parameter\"Warning message in plot.xy(xy, type, ...):\n",
      "\"\"clustering_distance_cols\" is not a graphical parameter\"Warning message in title(...):\n",
      "\"\"clustering_distance_rows\" is not a graphical parameter\"Warning message in title(...):\n",
      "\"\"clustering_distance_cols\" is not a graphical parameter\""
     ]
    },
    {
     "data": {
      "image/png": "[encoded data removed]",
      "text/plain": [
       "plot without title"
      ]
     },
     "metadata": {},
     "output_type": "display_data"
    }
   ],
   "source": [
    "sampleDists <- dist(t(assay(rld)))\n",
    "\n",
    "sampleDistMatrix <- as.matrix(sampleDists)\n",
    "\n",
    "rownames(sampleDistMatrix) <- paste(rld$condition)\n",
    "\n",
    "colnames(sampleDistMatrix) <- paste(rld$condition)\n",
    "\n",
    "colors <- colorRampPalette( rev(brewer.pal(9, \"Blues\")) )(255)\n",
    "\n",
    "heatmap(sampleDistMatrix,\n",
    "clustering_distance_rows=sampleDists,\n",
    "clustering_distance_cols=sampleDists,\n",
    "col=colors)"
   ]
  },
  {
   "cell_type": "code",
   "execution_count": null,
   "metadata": {
    "collapsed": true
   },
   "outputs": [],
   "source": []
  }
 ],
 "metadata": {
  "kernelspec": {
   "display_name": "R",
   "language": "R",
   "name": "ir"
  },
  "language_info": {
   "codemirror_mode": "r",
   "file_extension": ".r",
   "mimetype": "text/x-r-source",
   "name": "R",
   "pygments_lexer": "r",
   "version": "3.4.1"
  }
 },
 "nbformat": 4,
 "nbformat_minor": 1
}
