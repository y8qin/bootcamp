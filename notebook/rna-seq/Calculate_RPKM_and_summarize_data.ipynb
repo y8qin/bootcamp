{
 "cells": [
  {
   "cell_type": "markdown",
   "metadata": {},
   "source": [
    "# We will now start coding in python! We are going to load our counts data from featureCounts and do some calculations "
   ]
  },
  {
   "cell_type": "markdown",
   "metadata": {
    "collapsed": true
   },
   "source": [
    "First we need to import all the python packages that we will use. We will do that in the following cell. **WARNING** you most likely won't have all these packages installed. If you get the error \"Cannot import package name ....\" You need to go back to your command line and install it on tscc. \n",
    "\n",
    "Remember how we installed things before? Try conda, then bioconda, then pip. Once you have installed it on your command line on tscc, you will need to restart your kernel to refresh those changes (Kernel - Restart)\n",
    "\n",
    "**NOTE - **since these are python specific packages, you will not be able to tell if they installed properly on your command line with \n",
    "\n",
    "    which packagename\n",
    "   \n",
    "Instead, you will first need to open python in your terminal with:\n",
    "\n",
    "    python\n",
    "    \n",
    "Then try to import it (this is the same thing you do in a Jupyter notebook)\n",
    "\n",
    "    import packagename\n",
    "    \n",
    "If you don't get any errors, then success! It is installed. To get out of python and back to your normal command line:\n",
    "\n",
    "    quit()\n",
    "    \n",
    "**Don't be afraid of error messages! Learn how to read them and solve them!!**"
   ]
  },
  {
   "cell_type": "code",
   "execution_count": 1,
   "metadata": {},
   "outputs": [],
   "source": [
    "import pandas as pd\n",
    "import numpy as np\n",
    "import seaborn as sns\n",
    "\n",
    "from matplotlib import pyplot as plt\n",
    "\n",
    "%matplotlib inline"
   ]
  },
  {
   "cell_type": "markdown",
   "metadata": {},
   "source": [
    "### Initializing and loading data"
   ]
  },
  {
   "cell_type": "code",
   "execution_count": 2,
   "metadata": {},
   "outputs": [],
   "source": [
    "# This notebook is linked to TSCC, so we can load data directly by providing \n",
    "# the full path of the file location on tscc. Change the directory below to match your path\n",
    "directory = '/home/ucsd-train97/scratch/'\n",
    "out_directory = '~/projects/'\n",
    "\n",
    "# We are going to load the featurecounts file and assign it to the variable name: counts\n",
    "# change the \"featureCounts.txt\" to match the filename you used in your featureCounts script\n",
    "fname ='lin28_shRNA_all_featureCounts.txt'\n",
    "\n"
   ]
  },
  {
   "cell_type": "code",
   "execution_count": 3,
   "metadata": {},
   "outputs": [
    {
     "name": "stdout",
     "output_type": "stream",
     "text": [
      "(57820, 10)\n"
     ]
    },
    {
     "data": {
      "text/html": [
       "<div>\n",
       "<style scoped>\n",
       "    .dataframe tbody tr th:only-of-type {\n",
       "        vertical-align: middle;\n",
       "    }\n",
       "\n",
       "    .dataframe tbody tr th {\n",
       "        vertical-align: top;\n",
       "    }\n",
       "\n",
       "    .dataframe thead th {\n",
       "        text-align: right;\n",
       "    }\n",
       "</style>\n",
       "<table border=\"1\" class=\"dataframe\">\n",
       "  <thead>\n",
       "    <tr style=\"text-align: right;\">\n",
       "      <th></th>\n",
       "      <th>Chr</th>\n",
       "      <th>Start</th>\n",
       "      <th>End</th>\n",
       "      <th>Strand</th>\n",
       "      <th>Length</th>\n",
       "      <th>/home/ucsd-train97/scratch/annotations/hg19/allchrom.fa</th>\n",
       "      <th>/home/ucsd-train97/scratch/lin28b_shrna/bam_share/lin28b_ctrl_rep1.bam</th>\n",
       "      <th>/home/ucsd-train97/scratch/lin28b_shrna/bam_share/lin28b_ctrl_rep2.bam</th>\n",
       "      <th>/home/ucsd-train97/scratch/lin28b_shrna/bam_share/lin28b_kd_rep1.bam</th>\n",
       "      <th>/home/ucsd-train97/scratch/lin28b_shrna/bam_share/lin28b_kd_rep2.bam</th>\n",
       "    </tr>\n",
       "    <tr>\n",
       "      <th>Geneid</th>\n",
       "      <th></th>\n",
       "      <th></th>\n",
       "      <th></th>\n",
       "      <th></th>\n",
       "      <th></th>\n",
       "      <th></th>\n",
       "      <th></th>\n",
       "      <th></th>\n",
       "      <th></th>\n",
       "      <th></th>\n",
       "    </tr>\n",
       "  </thead>\n",
       "  <tbody>\n",
       "    <tr>\n",
       "      <th>ENSG00000223972.4</th>\n",
       "      <td>chr1;chr1;chr1;chr1;chr1;chr1;chr1;chr1;chr1;c...</td>\n",
       "      <td>11869;11872;11874;12010;12179;12595;12613;1261...</td>\n",
       "      <td>12227;12227;12227;12057;12227;12721;12697;1272...</td>\n",
       "      <td>+;+;+;+;+;+;+;+;+;+;+;+;+;+;+;+</td>\n",
       "      <td>1756</td>\n",
       "      <td>0</td>\n",
       "      <td>0</td>\n",
       "      <td>2</td>\n",
       "      <td>0</td>\n",
       "      <td>0</td>\n",
       "    </tr>\n",
       "    <tr>\n",
       "      <th>ENSG00000227232.4</th>\n",
       "      <td>chr1;chr1;chr1;chr1;chr1;chr1;chr1;chr1;chr1;c...</td>\n",
       "      <td>14363;14363;14363;14404;14411;14970;14970;1497...</td>\n",
       "      <td>14829;14829;14829;14501;14502;15038;15038;1503...</td>\n",
       "      <td>-;-;-;-;-;-;-;-;-;-;-;-;-;-;-;-;-;-;-;-;-;-;-;...</td>\n",
       "      <td>2073</td>\n",
       "      <td>0</td>\n",
       "      <td>294</td>\n",
       "      <td>294</td>\n",
       "      <td>334</td>\n",
       "      <td>410</td>\n",
       "    </tr>\n",
       "    <tr>\n",
       "      <th>ENSG00000243485.2</th>\n",
       "      <td>chr1;chr1;chr1;chr1;chr1;chr1</td>\n",
       "      <td>29554;30267;30366;30564;30976;30976</td>\n",
       "      <td>30039;30667;30503;30667;31109;31097</td>\n",
       "      <td>+;+;+;+;+;+</td>\n",
       "      <td>1021</td>\n",
       "      <td>0</td>\n",
       "      <td>0</td>\n",
       "      <td>0</td>\n",
       "      <td>0</td>\n",
       "      <td>0</td>\n",
       "    </tr>\n",
       "    <tr>\n",
       "      <th>ENSG00000237613.2</th>\n",
       "      <td>chr1;chr1;chr1;chr1;chr1</td>\n",
       "      <td>34554;35245;35277;35721;35721</td>\n",
       "      <td>35174;35481;35481;36081;36073</td>\n",
       "      <td>-;-;-;-;-</td>\n",
       "      <td>1219</td>\n",
       "      <td>0</td>\n",
       "      <td>0</td>\n",
       "      <td>2</td>\n",
       "      <td>4</td>\n",
       "      <td>7</td>\n",
       "    </tr>\n",
       "    <tr>\n",
       "      <th>ENSG00000268020.2</th>\n",
       "      <td>chr1;chr1;chr1</td>\n",
       "      <td>52473;53049;54830</td>\n",
       "      <td>53312;53067;54936</td>\n",
       "      <td>+;+;+</td>\n",
       "      <td>947</td>\n",
       "      <td>0</td>\n",
       "      <td>0</td>\n",
       "      <td>0</td>\n",
       "      <td>0</td>\n",
       "      <td>0</td>\n",
       "    </tr>\n",
       "  </tbody>\n",
       "</table>\n",
       "</div>"
      ],
      "text/plain": [
       "                                                                 Chr  \\\n",
       "Geneid                                                                 \n",
       "ENSG00000223972.4  chr1;chr1;chr1;chr1;chr1;chr1;chr1;chr1;chr1;c...   \n",
       "ENSG00000227232.4  chr1;chr1;chr1;chr1;chr1;chr1;chr1;chr1;chr1;c...   \n",
       "ENSG00000243485.2                      chr1;chr1;chr1;chr1;chr1;chr1   \n",
       "ENSG00000237613.2                           chr1;chr1;chr1;chr1;chr1   \n",
       "ENSG00000268020.2                                     chr1;chr1;chr1   \n",
       "\n",
       "                                                               Start  \\\n",
       "Geneid                                                                 \n",
       "ENSG00000223972.4  11869;11872;11874;12010;12179;12595;12613;1261...   \n",
       "ENSG00000227232.4  14363;14363;14363;14404;14411;14970;14970;1497...   \n",
       "ENSG00000243485.2                29554;30267;30366;30564;30976;30976   \n",
       "ENSG00000237613.2                      34554;35245;35277;35721;35721   \n",
       "ENSG00000268020.2                                  52473;53049;54830   \n",
       "\n",
       "                                                                 End  \\\n",
       "Geneid                                                                 \n",
       "ENSG00000223972.4  12227;12227;12227;12057;12227;12721;12697;1272...   \n",
       "ENSG00000227232.4  14829;14829;14829;14501;14502;15038;15038;1503...   \n",
       "ENSG00000243485.2                30039;30667;30503;30667;31109;31097   \n",
       "ENSG00000237613.2                      35174;35481;35481;36081;36073   \n",
       "ENSG00000268020.2                                  53312;53067;54936   \n",
       "\n",
       "                                                              Strand  Length  \\\n",
       "Geneid                                                                         \n",
       "ENSG00000223972.4                    +;+;+;+;+;+;+;+;+;+;+;+;+;+;+;+    1756   \n",
       "ENSG00000227232.4  -;-;-;-;-;-;-;-;-;-;-;-;-;-;-;-;-;-;-;-;-;-;-;...    2073   \n",
       "ENSG00000243485.2                                        +;+;+;+;+;+    1021   \n",
       "ENSG00000237613.2                                          -;-;-;-;-    1219   \n",
       "ENSG00000268020.2                                              +;+;+     947   \n",
       "\n",
       "                   /home/ucsd-train97/scratch/annotations/hg19/allchrom.fa  \\\n",
       "Geneid                                                                       \n",
       "ENSG00000223972.4                                                  0         \n",
       "ENSG00000227232.4                                                  0         \n",
       "ENSG00000243485.2                                                  0         \n",
       "ENSG00000237613.2                                                  0         \n",
       "ENSG00000268020.2                                                  0         \n",
       "\n",
       "                   /home/ucsd-train97/scratch/lin28b_shrna/bam_share/lin28b_ctrl_rep1.bam  \\\n",
       "Geneid                                                                                      \n",
       "ENSG00000223972.4                                                  0                        \n",
       "ENSG00000227232.4                                                294                        \n",
       "ENSG00000243485.2                                                  0                        \n",
       "ENSG00000237613.2                                                  0                        \n",
       "ENSG00000268020.2                                                  0                        \n",
       "\n",
       "                   /home/ucsd-train97/scratch/lin28b_shrna/bam_share/lin28b_ctrl_rep2.bam  \\\n",
       "Geneid                                                                                      \n",
       "ENSG00000223972.4                                                  2                        \n",
       "ENSG00000227232.4                                                294                        \n",
       "ENSG00000243485.2                                                  0                        \n",
       "ENSG00000237613.2                                                  2                        \n",
       "ENSG00000268020.2                                                  0                        \n",
       "\n",
       "                   /home/ucsd-train97/scratch/lin28b_shrna/bam_share/lin28b_kd_rep1.bam  \\\n",
       "Geneid                                                                                    \n",
       "ENSG00000223972.4                                                  0                      \n",
       "ENSG00000227232.4                                                334                      \n",
       "ENSG00000243485.2                                                  0                      \n",
       "ENSG00000237613.2                                                  4                      \n",
       "ENSG00000268020.2                                                  0                      \n",
       "\n",
       "                   /home/ucsd-train97/scratch/lin28b_shrna/bam_share/lin28b_kd_rep2.bam  \n",
       "Geneid                                                                                   \n",
       "ENSG00000223972.4                                                  0                     \n",
       "ENSG00000227232.4                                                410                     \n",
       "ENSG00000243485.2                                                  0                     \n",
       "ENSG00000237613.2                                                  7                     \n",
       "ENSG00000268020.2                                                  0                     "
      ]
     },
     "execution_count": 3,
     "metadata": {},
     "output_type": "execute_result"
    }
   ],
   "source": [
    "counts = pd.read_csv(directory+fname, sep=\"\\t\", index_col=0, comment=\"#\")\n",
    "print(counts.shape)\n",
    "counts.head()"
   ]
  },
  {
   "cell_type": "code",
   "execution_count": 4,
   "metadata": {},
   "outputs": [
    {
     "data": {
      "text/plain": [
       "0    57820\n",
       "Name: /home/ucsd-train97/scratch/annotations/hg19/allchrom.fa, dtype: int64"
      ]
     },
     "execution_count": 4,
     "metadata": {},
     "output_type": "execute_result"
    }
   ],
   "source": [
    "counts.iloc[:,5].value_counts()"
   ]
  },
  {
   "cell_type": "code",
   "execution_count": 6,
   "metadata": {},
   "outputs": [
    {
     "name": "stdout",
     "output_type": "stream",
     "text": [
      "(57820, 5)\n"
     ]
    },
    {
     "data": {
      "text/html": [
       "<div>\n",
       "<style scoped>\n",
       "    .dataframe tbody tr th:only-of-type {\n",
       "        vertical-align: middle;\n",
       "    }\n",
       "\n",
       "    .dataframe tbody tr th {\n",
       "        vertical-align: top;\n",
       "    }\n",
       "\n",
       "    .dataframe thead th {\n",
       "        text-align: right;\n",
       "    }\n",
       "</style>\n",
       "<table border=\"1\" class=\"dataframe\">\n",
       "  <thead>\n",
       "    <tr style=\"text-align: right;\">\n",
       "      <th></th>\n",
       "      <th>Length</th>\n",
       "      <th>/home/ucsd-train97/scratch/lin28b_shrna/bam_share/lin28b_ctrl_rep1.bam</th>\n",
       "      <th>/home/ucsd-train97/scratch/lin28b_shrna/bam_share/lin28b_ctrl_rep2.bam</th>\n",
       "      <th>/home/ucsd-train97/scratch/lin28b_shrna/bam_share/lin28b_kd_rep1.bam</th>\n",
       "      <th>/home/ucsd-train97/scratch/lin28b_shrna/bam_share/lin28b_kd_rep2.bam</th>\n",
       "    </tr>\n",
       "    <tr>\n",
       "      <th>Geneid</th>\n",
       "      <th></th>\n",
       "      <th></th>\n",
       "      <th></th>\n",
       "      <th></th>\n",
       "      <th></th>\n",
       "    </tr>\n",
       "  </thead>\n",
       "  <tbody>\n",
       "    <tr>\n",
       "      <th>ENSG00000223972.4</th>\n",
       "      <td>1756</td>\n",
       "      <td>0</td>\n",
       "      <td>2</td>\n",
       "      <td>0</td>\n",
       "      <td>0</td>\n",
       "    </tr>\n",
       "    <tr>\n",
       "      <th>ENSG00000227232.4</th>\n",
       "      <td>2073</td>\n",
       "      <td>294</td>\n",
       "      <td>294</td>\n",
       "      <td>334</td>\n",
       "      <td>410</td>\n",
       "    </tr>\n",
       "    <tr>\n",
       "      <th>ENSG00000243485.2</th>\n",
       "      <td>1021</td>\n",
       "      <td>0</td>\n",
       "      <td>0</td>\n",
       "      <td>0</td>\n",
       "      <td>0</td>\n",
       "    </tr>\n",
       "    <tr>\n",
       "      <th>ENSG00000237613.2</th>\n",
       "      <td>1219</td>\n",
       "      <td>0</td>\n",
       "      <td>2</td>\n",
       "      <td>4</td>\n",
       "      <td>7</td>\n",
       "    </tr>\n",
       "    <tr>\n",
       "      <th>ENSG00000268020.2</th>\n",
       "      <td>947</td>\n",
       "      <td>0</td>\n",
       "      <td>0</td>\n",
       "      <td>0</td>\n",
       "      <td>0</td>\n",
       "    </tr>\n",
       "  </tbody>\n",
       "</table>\n",
       "</div>"
      ],
      "text/plain": [
       "                   Length  \\\n",
       "Geneid                      \n",
       "ENSG00000223972.4    1756   \n",
       "ENSG00000227232.4    2073   \n",
       "ENSG00000243485.2    1021   \n",
       "ENSG00000237613.2    1219   \n",
       "ENSG00000268020.2     947   \n",
       "\n",
       "                   /home/ucsd-train97/scratch/lin28b_shrna/bam_share/lin28b_ctrl_rep1.bam  \\\n",
       "Geneid                                                                                      \n",
       "ENSG00000223972.4                                                  0                        \n",
       "ENSG00000227232.4                                                294                        \n",
       "ENSG00000243485.2                                                  0                        \n",
       "ENSG00000237613.2                                                  0                        \n",
       "ENSG00000268020.2                                                  0                        \n",
       "\n",
       "                   /home/ucsd-train97/scratch/lin28b_shrna/bam_share/lin28b_ctrl_rep2.bam  \\\n",
       "Geneid                                                                                      \n",
       "ENSG00000223972.4                                                  2                        \n",
       "ENSG00000227232.4                                                294                        \n",
       "ENSG00000243485.2                                                  0                        \n",
       "ENSG00000237613.2                                                  2                        \n",
       "ENSG00000268020.2                                                  0                        \n",
       "\n",
       "                   /home/ucsd-train97/scratch/lin28b_shrna/bam_share/lin28b_kd_rep1.bam  \\\n",
       "Geneid                                                                                    \n",
       "ENSG00000223972.4                                                  0                      \n",
       "ENSG00000227232.4                                                334                      \n",
       "ENSG00000243485.2                                                  0                      \n",
       "ENSG00000237613.2                                                  4                      \n",
       "ENSG00000268020.2                                                  0                      \n",
       "\n",
       "                   /home/ucsd-train97/scratch/lin28b_shrna/bam_share/lin28b_kd_rep2.bam  \n",
       "Geneid                                                                                   \n",
       "ENSG00000223972.4                                                  0                     \n",
       "ENSG00000227232.4                                                410                     \n",
       "ENSG00000243485.2                                                  0                     \n",
       "ENSG00000237613.2                                                  7                     \n",
       "ENSG00000268020.2                                                  0                     "
      ]
     },
     "execution_count": 6,
     "metadata": {},
     "output_type": "execute_result"
    }
   ],
   "source": [
    "#Let's drop unnecessary columns\n",
    "\n",
    "#Look at the column names in your dataframe above, we only want to keep Length and the four files\n",
    "#containing the count information. Make sure the names that you have after drop below match the \n",
    "#column names that you want to eliminate\n",
    "\n",
    "fasta_dir = '/home/ucsd-train97/scratch/annotations/hg19/allchrom.fa'\n",
    "\n",
    "counts.drop(['Chr','Start','End','Strand', fasta_dir], \n",
    "           axis=1, inplace=True)\n",
    "\n",
    "print(counts.shape)\n",
    "counts.head()"
   ]
  },
  {
   "cell_type": "code",
   "execution_count": 7,
   "metadata": {},
   "outputs": [
    {
     "data": {
      "text/plain": [
       "(57820, 5)"
      ]
     },
     "execution_count": 7,
     "metadata": {},
     "output_type": "execute_result"
    }
   ],
   "source": [
    "counts.shape"
   ]
  },
  {
   "cell_type": "code",
   "execution_count": 10,
   "metadata": {},
   "outputs": [
    {
     "data": {
      "text/html": [
       "<div>\n",
       "<style scoped>\n",
       "    .dataframe tbody tr th:only-of-type {\n",
       "        vertical-align: middle;\n",
       "    }\n",
       "\n",
       "    .dataframe tbody tr th {\n",
       "        vertical-align: top;\n",
       "    }\n",
       "\n",
       "    .dataframe thead th {\n",
       "        text-align: right;\n",
       "    }\n",
       "</style>\n",
       "<table border=\"1\" class=\"dataframe\">\n",
       "  <thead>\n",
       "    <tr style=\"text-align: right;\">\n",
       "      <th></th>\n",
       "      <th>Length</th>\n",
       "      <th>lin28b_ctrl_rep1</th>\n",
       "      <th>lin28b_ctrl_rep2</th>\n",
       "      <th>lin28b_kd_rep1</th>\n",
       "      <th>lin28b_kd_rep2</th>\n",
       "    </tr>\n",
       "    <tr>\n",
       "      <th>Geneid</th>\n",
       "      <th></th>\n",
       "      <th></th>\n",
       "      <th></th>\n",
       "      <th></th>\n",
       "      <th></th>\n",
       "    </tr>\n",
       "  </thead>\n",
       "  <tbody>\n",
       "    <tr>\n",
       "      <th>ENSG00000223972.4</th>\n",
       "      <td>1756</td>\n",
       "      <td>0</td>\n",
       "      <td>2</td>\n",
       "      <td>0</td>\n",
       "      <td>0</td>\n",
       "    </tr>\n",
       "    <tr>\n",
       "      <th>ENSG00000227232.4</th>\n",
       "      <td>2073</td>\n",
       "      <td>294</td>\n",
       "      <td>294</td>\n",
       "      <td>334</td>\n",
       "      <td>410</td>\n",
       "    </tr>\n",
       "    <tr>\n",
       "      <th>ENSG00000243485.2</th>\n",
       "      <td>1021</td>\n",
       "      <td>0</td>\n",
       "      <td>0</td>\n",
       "      <td>0</td>\n",
       "      <td>0</td>\n",
       "    </tr>\n",
       "    <tr>\n",
       "      <th>ENSG00000237613.2</th>\n",
       "      <td>1219</td>\n",
       "      <td>0</td>\n",
       "      <td>2</td>\n",
       "      <td>4</td>\n",
       "      <td>7</td>\n",
       "    </tr>\n",
       "    <tr>\n",
       "      <th>ENSG00000268020.2</th>\n",
       "      <td>947</td>\n",
       "      <td>0</td>\n",
       "      <td>0</td>\n",
       "      <td>0</td>\n",
       "      <td>0</td>\n",
       "    </tr>\n",
       "  </tbody>\n",
       "</table>\n",
       "</div>"
      ],
      "text/plain": [
       "                   Length  lin28b_ctrl_rep1  lin28b_ctrl_rep2  lin28b_kd_rep1  \\\n",
       "Geneid                                                                          \n",
       "ENSG00000223972.4    1756                 0                 2               0   \n",
       "ENSG00000227232.4    2073               294               294             334   \n",
       "ENSG00000243485.2    1021                 0                 0               0   \n",
       "ENSG00000237613.2    1219                 0                 2               4   \n",
       "ENSG00000268020.2     947                 0                 0               0   \n",
       "\n",
       "                   lin28b_kd_rep2  \n",
       "Geneid                             \n",
       "ENSG00000223972.4               0  \n",
       "ENSG00000227232.4             410  \n",
       "ENSG00000243485.2               0  \n",
       "ENSG00000237613.2               7  \n",
       "ENSG00000268020.2               0  "
      ]
     },
     "execution_count": 10,
     "metadata": {},
     "output_type": "execute_result"
    }
   ],
   "source": [
    "# Rename the column for easier recognition\n",
    "counts.columns = ['Length','lin28b_ctrl_rep1','lin28b_ctrl_rep2','lin28b_kd_rep1','lin28b_kd_rep2']\n",
    "counts.head()"
   ]
  },
  {
   "cell_type": "code",
   "execution_count": 11,
   "metadata": {},
   "outputs": [],
   "source": [
    "#We will save this counts matrix to use as the input for differential expression. \n",
    "#This will be saved in the directory called counts and will have the filename \n",
    "#counts_for_deseq2.csv\n",
    "counts.to_csv(out_directory+'counts_for_deseq2.csv')"
   ]
  },
  {
   "cell_type": "markdown",
   "metadata": {},
   "source": [
    "## Generate condition table"
   ]
  },
  {
   "cell_type": "code",
   "execution_count": 12,
   "metadata": {},
   "outputs": [
    {
     "data": {
      "text/html": [
       "<div>\n",
       "<style scoped>\n",
       "    .dataframe tbody tr th:only-of-type {\n",
       "        vertical-align: middle;\n",
       "    }\n",
       "\n",
       "    .dataframe tbody tr th {\n",
       "        vertical-align: top;\n",
       "    }\n",
       "\n",
       "    .dataframe thead th {\n",
       "        text-align: right;\n",
       "    }\n",
       "</style>\n",
       "<table border=\"1\" class=\"dataframe\">\n",
       "  <thead>\n",
       "    <tr style=\"text-align: right;\">\n",
       "      <th></th>\n",
       "    </tr>\n",
       "  </thead>\n",
       "  <tbody>\n",
       "    <tr>\n",
       "      <th>lin28b_ctrl_rep1</th>\n",
       "    </tr>\n",
       "    <tr>\n",
       "      <th>lin28b_ctrl_rep2</th>\n",
       "    </tr>\n",
       "    <tr>\n",
       "      <th>lin28b_kd_rep1</th>\n",
       "    </tr>\n",
       "    <tr>\n",
       "      <th>lin28b_kd_rep2</th>\n",
       "    </tr>\n",
       "  </tbody>\n",
       "</table>\n",
       "</div>"
      ],
      "text/plain": [
       "Empty DataFrame\n",
       "Columns: []\n",
       "Index: [lin28b_ctrl_rep1, lin28b_ctrl_rep2, lin28b_kd_rep1, lin28b_kd_rep2]"
      ]
     },
     "execution_count": 12,
     "metadata": {},
     "output_type": "execute_result"
    }
   ],
   "source": [
    "#We also need to make a condition matrix for deseq2. The row names need to match the column names\n",
    "#from the count matrix and we will assign a condition to each row\n",
    "\n",
    "conditions = pd.DataFrame(index = counts.columns[1:])\n",
    "conditions.head()"
   ]
  },
  {
   "cell_type": "code",
   "execution_count": 13,
   "metadata": {},
   "outputs": [
    {
     "data": {
      "text/html": [
       "<div>\n",
       "<style scoped>\n",
       "    .dataframe tbody tr th:only-of-type {\n",
       "        vertical-align: middle;\n",
       "    }\n",
       "\n",
       "    .dataframe tbody tr th {\n",
       "        vertical-align: top;\n",
       "    }\n",
       "\n",
       "    .dataframe thead th {\n",
       "        text-align: right;\n",
       "    }\n",
       "</style>\n",
       "<table border=\"1\" class=\"dataframe\">\n",
       "  <thead>\n",
       "    <tr style=\"text-align: right;\">\n",
       "      <th></th>\n",
       "      <th>condition</th>\n",
       "    </tr>\n",
       "  </thead>\n",
       "  <tbody>\n",
       "    <tr>\n",
       "      <th>lin28b_ctrl_rep1</th>\n",
       "      <td>control</td>\n",
       "    </tr>\n",
       "    <tr>\n",
       "      <th>lin28b_ctrl_rep2</th>\n",
       "      <td>control</td>\n",
       "    </tr>\n",
       "    <tr>\n",
       "      <th>lin28b_kd_rep1</th>\n",
       "      <td>knockdown</td>\n",
       "    </tr>\n",
       "    <tr>\n",
       "      <th>lin28b_kd_rep2</th>\n",
       "      <td>knockdown</td>\n",
       "    </tr>\n",
       "  </tbody>\n",
       "</table>\n",
       "</div>"
      ],
      "text/plain": [
       "                  condition\n",
       "lin28b_ctrl_rep1    control\n",
       "lin28b_ctrl_rep2    control\n",
       "lin28b_kd_rep1    knockdown\n",
       "lin28b_kd_rep2    knockdown"
      ]
     },
     "execution_count": 13,
     "metadata": {},
     "output_type": "execute_result"
    }
   ],
   "source": [
    "#Make sure the features listed below match the order of the rows that are listed in the \n",
    "#conditions dataframe that is printed above. If necessary, change the order to match your\n",
    "#setup. Check that the conditions match on the dataframe created below\n",
    "\n",
    "features= ['control','control','knockdown','knockdown']\n",
    "conditions['condition'] = features\n",
    "conditions.head()"
   ]
  },
  {
   "cell_type": "code",
   "execution_count": 14,
   "metadata": {},
   "outputs": [],
   "source": [
    "conditions.to_csv(out_directory+\"conditions_matrix_deseq2.csv\")"
   ]
  },
  {
   "cell_type": "code",
   "execution_count": null,
   "metadata": {},
   "outputs": [],
   "source": []
  },
  {
   "cell_type": "code",
   "execution_count": 15,
   "metadata": {},
   "outputs": [],
   "source": [
    "#Here is a handy function that will turn our counts matrix into RPKM\n",
    "#You don't need to do anything here other than run the cell\n",
    "\n",
    "def counts_to_rpkm(featureCountsTable):\n",
    "    counts = featureCountsTable.ix[:,1:]\n",
    "    lengths = featureCountsTable['Length']\n",
    "    mapped_reads = counts.sum()\n",
    "    return (counts * pow(10,9)).div(mapped_reads, axis=1).div(lengths, axis=0)"
   ]
  },
  {
   "cell_type": "code",
   "execution_count": 17,
   "metadata": {},
   "outputs": [
    {
     "name": "stderr",
     "output_type": "stream",
     "text": [
      "/home/ucsd-train97/anaconda3/lib/python3.7/site-packages/ipykernel_launcher.py:5: DeprecationWarning: \n",
      ".ix is deprecated. Please use\n",
      ".loc for label based indexing or\n",
      ".iloc for positional indexing\n",
      "\n",
      "See the documentation here:\n",
      "http://pandas.pydata.org/pandas-docs/stable/indexing.html#ix-indexer-is-deprecated\n",
      "  \"\"\"\n"
     ]
    },
    {
     "name": "stdout",
     "output_type": "stream",
     "text": [
      "(57820, 4)\n"
     ]
    },
    {
     "data": {
      "text/html": [
       "<div>\n",
       "<style scoped>\n",
       "    .dataframe tbody tr th:only-of-type {\n",
       "        vertical-align: middle;\n",
       "    }\n",
       "\n",
       "    .dataframe tbody tr th {\n",
       "        vertical-align: top;\n",
       "    }\n",
       "\n",
       "    .dataframe thead th {\n",
       "        text-align: right;\n",
       "    }\n",
       "</style>\n",
       "<table border=\"1\" class=\"dataframe\">\n",
       "  <thead>\n",
       "    <tr style=\"text-align: right;\">\n",
       "      <th></th>\n",
       "      <th>lin28b_ctrl_rep1</th>\n",
       "      <th>lin28b_ctrl_rep2</th>\n",
       "      <th>lin28b_kd_rep1</th>\n",
       "      <th>lin28b_kd_rep2</th>\n",
       "    </tr>\n",
       "    <tr>\n",
       "      <th>Geneid</th>\n",
       "      <th></th>\n",
       "      <th></th>\n",
       "      <th></th>\n",
       "      <th></th>\n",
       "    </tr>\n",
       "  </thead>\n",
       "  <tbody>\n",
       "    <tr>\n",
       "      <th>ENSG00000223972.4</th>\n",
       "      <td>0.000000</td>\n",
       "      <td>0.062309</td>\n",
       "      <td>0.000000</td>\n",
       "      <td>0.000000</td>\n",
       "    </tr>\n",
       "    <tr>\n",
       "      <th>ENSG00000227232.4</th>\n",
       "      <td>9.087219</td>\n",
       "      <td>7.758734</td>\n",
       "      <td>10.038027</td>\n",
       "      <td>8.460869</td>\n",
       "    </tr>\n",
       "    <tr>\n",
       "      <th>ENSG00000243485.2</th>\n",
       "      <td>0.000000</td>\n",
       "      <td>0.000000</td>\n",
       "      <td>0.000000</td>\n",
       "      <td>0.000000</td>\n",
       "    </tr>\n",
       "    <tr>\n",
       "      <th>ENSG00000237613.2</th>\n",
       "      <td>0.000000</td>\n",
       "      <td>0.089757</td>\n",
       "      <td>0.204436</td>\n",
       "      <td>0.245655</td>\n",
       "    </tr>\n",
       "    <tr>\n",
       "      <th>ENSG00000268020.2</th>\n",
       "      <td>0.000000</td>\n",
       "      <td>0.000000</td>\n",
       "      <td>0.000000</td>\n",
       "      <td>0.000000</td>\n",
       "    </tr>\n",
       "  </tbody>\n",
       "</table>\n",
       "</div>"
      ],
      "text/plain": [
       "                   lin28b_ctrl_rep1  lin28b_ctrl_rep2  lin28b_kd_rep1  \\\n",
       "Geneid                                                                  \n",
       "ENSG00000223972.4          0.000000          0.062309        0.000000   \n",
       "ENSG00000227232.4          9.087219          7.758734       10.038027   \n",
       "ENSG00000243485.2          0.000000          0.000000        0.000000   \n",
       "ENSG00000237613.2          0.000000          0.089757        0.204436   \n",
       "ENSG00000268020.2          0.000000          0.000000        0.000000   \n",
       "\n",
       "                   lin28b_kd_rep2  \n",
       "Geneid                             \n",
       "ENSG00000223972.4        0.000000  \n",
       "ENSG00000227232.4        8.460869  \n",
       "ENSG00000243485.2        0.000000  \n",
       "ENSG00000237613.2        0.245655  \n",
       "ENSG00000268020.2        0.000000  "
      ]
     },
     "execution_count": 17,
     "metadata": {},
     "output_type": "execute_result"
    }
   ],
   "source": [
    "rpkm = counts_to_rpkm(counts)\n",
    "print(rpkm.shape)\n",
    "rpkm.head()"
   ]
  },
  {
   "cell_type": "code",
   "execution_count": 18,
   "metadata": {},
   "outputs": [
    {
     "name": "stdout",
     "output_type": "stream",
     "text": [
      "(11973, 4)\n"
     ]
    },
    {
     "data": {
      "text/html": [
       "<div>\n",
       "<style scoped>\n",
       "    .dataframe tbody tr th:only-of-type {\n",
       "        vertical-align: middle;\n",
       "    }\n",
       "\n",
       "    .dataframe tbody tr th {\n",
       "        vertical-align: top;\n",
       "    }\n",
       "\n",
       "    .dataframe thead th {\n",
       "        text-align: right;\n",
       "    }\n",
       "</style>\n",
       "<table border=\"1\" class=\"dataframe\">\n",
       "  <thead>\n",
       "    <tr style=\"text-align: right;\">\n",
       "      <th></th>\n",
       "      <th>lin28b_ctrl_rep1</th>\n",
       "      <th>lin28b_ctrl_rep2</th>\n",
       "      <th>lin28b_kd_rep1</th>\n",
       "      <th>lin28b_kd_rep2</th>\n",
       "    </tr>\n",
       "    <tr>\n",
       "      <th>Geneid</th>\n",
       "      <th></th>\n",
       "      <th></th>\n",
       "      <th></th>\n",
       "      <th></th>\n",
       "    </tr>\n",
       "  </thead>\n",
       "  <tbody>\n",
       "    <tr>\n",
       "      <th>ENSG00000227232.4</th>\n",
       "      <td>9.087219</td>\n",
       "      <td>7.758734</td>\n",
       "      <td>10.038027</td>\n",
       "      <td>8.460869</td>\n",
       "    </tr>\n",
       "    <tr>\n",
       "      <th>ENSG00000238009.2</th>\n",
       "      <td>1.543956</td>\n",
       "      <td>1.992690</td>\n",
       "      <td>2.391527</td>\n",
       "      <td>1.953761</td>\n",
       "    </tr>\n",
       "    <tr>\n",
       "      <th>ENSG00000237683.5</th>\n",
       "      <td>18.444499</td>\n",
       "      <td>24.506101</td>\n",
       "      <td>35.775001</td>\n",
       "      <td>33.052831</td>\n",
       "    </tr>\n",
       "    <tr>\n",
       "      <th>ENSG00000239906.1</th>\n",
       "      <td>2.182092</td>\n",
       "      <td>1.863086</td>\n",
       "      <td>4.822127</td>\n",
       "      <td>5.959920</td>\n",
       "    </tr>\n",
       "    <tr>\n",
       "      <th>ENSG00000241860.2</th>\n",
       "      <td>1.996177</td>\n",
       "      <td>0.953730</td>\n",
       "      <td>1.267157</td>\n",
       "      <td>0.987473</td>\n",
       "    </tr>\n",
       "  </tbody>\n",
       "</table>\n",
       "</div>"
      ],
      "text/plain": [
       "                   lin28b_ctrl_rep1  lin28b_ctrl_rep2  lin28b_kd_rep1  \\\n",
       "Geneid                                                                  \n",
       "ENSG00000227232.4          9.087219          7.758734       10.038027   \n",
       "ENSG00000238009.2          1.543956          1.992690        2.391527   \n",
       "ENSG00000237683.5         18.444499         24.506101       35.775001   \n",
       "ENSG00000239906.1          2.182092          1.863086        4.822127   \n",
       "ENSG00000241860.2          1.996177          0.953730        1.267157   \n",
       "\n",
       "                   lin28b_kd_rep2  \n",
       "Geneid                             \n",
       "ENSG00000227232.4        8.460869  \n",
       "ENSG00000238009.2        1.953761  \n",
       "ENSG00000237683.5       33.052831  \n",
       "ENSG00000239906.1        5.959920  \n",
       "ENSG00000241860.2        0.987473  "
      ]
     },
     "execution_count": 18,
     "metadata": {},
     "output_type": "execute_result"
    }
   ],
   "source": [
    "#To get rid of a lot of noise, we are going to drop rows that have RPKM less than 4\n",
    "\n",
    "rpkm_filtered = rpkm.loc[rpkm.sum(axis=1) > 4]\n",
    "print(rpkm_filtered.shape)\n",
    "rpkm_filtered.head()"
   ]
  },
  {
   "cell_type": "code",
   "execution_count": 19,
   "metadata": {},
   "outputs": [],
   "source": [
    "#Now we will save the file. Note that it will go to the same location we defined as \n",
    "#directory above and it will be given the filename rpkm_filtered.csv\n",
    "rpkm_filtered.to_csv(directory+\"rpkm_filtered.csv\")"
   ]
  },
  {
   "cell_type": "code",
   "execution_count": 20,
   "metadata": {},
   "outputs": [
    {
     "data": {
      "image/png": "[encoded data removed]",
      "text/plain": [
       "<Figure size 1440x288 with 1 Axes>"
      ]
     },
     "metadata": {},
     "output_type": "display_data"
    },
    {
     "data": {
      "image/png": "[encoded data removed]",
      "text/plain": [
       "<Figure size 1440x288 with 1 Axes>"
      ]
     },
     "metadata": {},
     "output_type": "display_data"
    },
    {
     "data": {
      "image/png": "[encoded data removed]",
      "text/plain": [
       "<Figure size 1440x288 with 1 Axes>"
      ]
     },
     "metadata": {},
     "output_type": "display_data"
    },
    {
     "data": {
      "image/png": "[encoded data removed]",
      "text/plain": [
       "<Figure size 1440x288 with 1 Axes>"
      ]
     },
     "metadata": {},
     "output_type": "display_data"
    }
   ],
   "source": [
    "#Let's look at a histogram of the rpkm values for each sample.\n",
    "#Notice how the vast majority cluster near zero. Let's tranfsorm our data to a log2 scale \n",
    "#for better viewing.\n",
    "sns.set_style(\"whitegrid\")\n",
    "for i, a in zip(rpkm.columns, range(1,5)):\n",
    "    plt.figure(figsize=(20,4))\n",
    "    plt.subplot(1,4,a)\n",
    "    plt.hist(rpkm[i], bins=100)\n",
    "    plt.xlabel(\"RPKM\")\n",
    "    plt.ylabel(\"count\")\n",
    "    plt.title(i)"
   ]
  },
  {
   "cell_type": "code",
   "execution_count": 22,
   "metadata": {},
   "outputs": [
    {
     "name": "stdout",
     "output_type": "stream",
     "text": [
      "(11973, 4)\n"
     ]
    },
    {
     "name": "stderr",
     "output_type": "stream",
     "text": [
      "/home/ucsd-train97/anaconda3/lib/python3.7/site-packages/ipykernel_launcher.py:3: RuntimeWarning: divide by zero encountered in log2\n",
      "  This is separate from the ipykernel package so we can avoid doing imports until\n"
     ]
    },
    {
     "data": {
      "text/html": [
       "<div>\n",
       "<style scoped>\n",
       "    .dataframe tbody tr th:only-of-type {\n",
       "        vertical-align: middle;\n",
       "    }\n",
       "\n",
       "    .dataframe tbody tr th {\n",
       "        vertical-align: top;\n",
       "    }\n",
       "\n",
       "    .dataframe thead th {\n",
       "        text-align: right;\n",
       "    }\n",
       "</style>\n",
       "<table border=\"1\" class=\"dataframe\">\n",
       "  <thead>\n",
       "    <tr style=\"text-align: right;\">\n",
       "      <th></th>\n",
       "      <th>lin28b_ctrl_rep1</th>\n",
       "      <th>lin28b_ctrl_rep2</th>\n",
       "      <th>lin28b_kd_rep1</th>\n",
       "      <th>lin28b_kd_rep2</th>\n",
       "    </tr>\n",
       "    <tr>\n",
       "      <th>Geneid</th>\n",
       "      <th></th>\n",
       "      <th></th>\n",
       "      <th></th>\n",
       "      <th></th>\n",
       "    </tr>\n",
       "  </thead>\n",
       "  <tbody>\n",
       "    <tr>\n",
       "      <th>ENSG00000227232.4</th>\n",
       "      <td>3.183839</td>\n",
       "      <td>2.955821</td>\n",
       "      <td>3.327404</td>\n",
       "      <td>3.080806</td>\n",
       "    </tr>\n",
       "    <tr>\n",
       "      <th>ENSG00000238009.2</th>\n",
       "      <td>0.626631</td>\n",
       "      <td>0.994717</td>\n",
       "      <td>1.257932</td>\n",
       "      <td>0.966254</td>\n",
       "    </tr>\n",
       "    <tr>\n",
       "      <th>ENSG00000237683.5</th>\n",
       "      <td>4.205119</td>\n",
       "      <td>4.615069</td>\n",
       "      <td>5.160880</td>\n",
       "      <td>5.046702</td>\n",
       "    </tr>\n",
       "    <tr>\n",
       "      <th>ENSG00000239906.1</th>\n",
       "      <td>1.125712</td>\n",
       "      <td>0.897695</td>\n",
       "      <td>2.269670</td>\n",
       "      <td>2.575293</td>\n",
       "    </tr>\n",
       "    <tr>\n",
       "      <th>ENSG00000241860.2</th>\n",
       "      <td>0.997239</td>\n",
       "      <td>-0.068348</td>\n",
       "      <td>0.341595</td>\n",
       "      <td>-0.018187</td>\n",
       "    </tr>\n",
       "  </tbody>\n",
       "</table>\n",
       "</div>"
      ],
      "text/plain": [
       "                   lin28b_ctrl_rep1  lin28b_ctrl_rep2  lin28b_kd_rep1  \\\n",
       "Geneid                                                                  \n",
       "ENSG00000227232.4          3.183839          2.955821        3.327404   \n",
       "ENSG00000238009.2          0.626631          0.994717        1.257932   \n",
       "ENSG00000237683.5          4.205119          4.615069        5.160880   \n",
       "ENSG00000239906.1          1.125712          0.897695        2.269670   \n",
       "ENSG00000241860.2          0.997239         -0.068348        0.341595   \n",
       "\n",
       "                   lin28b_kd_rep2  \n",
       "Geneid                             \n",
       "ENSG00000227232.4        3.080806  \n",
       "ENSG00000238009.2        0.966254  \n",
       "ENSG00000237683.5        5.046702  \n",
       "ENSG00000239906.1        2.575293  \n",
       "ENSG00000241860.2       -0.018187  "
      ]
     },
     "execution_count": 22,
     "metadata": {},
     "output_type": "execute_result"
    }
   ],
   "source": [
    "#Now let's take the log2RPKM\n",
    "\n",
    "rpkm_log2 = np.log2(rpkm_filtered)\n",
    "print(rpkm_log2.shape)\n",
    "rpkm_log2.head()"
   ]
  },
  {
   "cell_type": "code",
   "execution_count": 33,
   "metadata": {
    "scrolled": true
   },
   "outputs": [],
   "source": [
    "#First we have to replace infinite values with 0 in order to plot a histogram\n",
    "rpkm_log2.replace(-np.Inf, 0, inplace=True)"
   ]
  },
  {
   "cell_type": "code",
   "execution_count": 34,
   "metadata": {},
   "outputs": [
    {
     "data": {
      "image/png": "[encoded data removed]",
      "text/plain": [
       "<Figure size 1440x288 with 1 Axes>"
      ]
     },
     "metadata": {},
     "output_type": "display_data"
    },
    {
     "data": {
      "image/png": "[encoded data removed]",
      "text/plain": [
       "<Figure size 1440x288 with 1 Axes>"
      ]
     },
     "metadata": {},
     "output_type": "display_data"
    },
    {
     "data": {
      "image/png": "[encoded data removed]",
      "text/plain": [
       "<Figure size 1440x288 with 1 Axes>"
      ]
     },
     "metadata": {},
     "output_type": "display_data"
    },
    {
     "data": {
      "image/png": "[encoded data removed]",
      "text/plain": [
       "<Figure size 1440x288 with 1 Axes>"
      ]
     },
     "metadata": {},
     "output_type": "display_data"
    }
   ],
   "source": [
    "sns.set_style(\"whitegrid\")\n",
    "for i, a in zip(rpkm_log2.columns, range(1,5)):\n",
    "    plt.figure(figsize=(20,4))\n",
    "    plt.subplot(1,4,a)\n",
    "    plt.hist(rpkm_log2[i], bins=100)\n",
    "    plt.xlabel(\"log2 RPKM\")\n",
    "    plt.ylabel(\"count\")\n",
    "    plt.title(i)"
   ]
  },
  {
   "cell_type": "code",
   "execution_count": 35,
   "metadata": {
    "scrolled": true
   },
   "outputs": [
    {
     "name": "stdout",
     "output_type": "stream",
     "text": [
      "(11847, 4)\n"
     ]
    },
    {
     "data": {
      "text/html": [
       "<div>\n",
       "<style scoped>\n",
       "    .dataframe tbody tr th:only-of-type {\n",
       "        vertical-align: middle;\n",
       "    }\n",
       "\n",
       "    .dataframe tbody tr th {\n",
       "        vertical-align: top;\n",
       "    }\n",
       "\n",
       "    .dataframe thead th {\n",
       "        text-align: right;\n",
       "    }\n",
       "</style>\n",
       "<table border=\"1\" class=\"dataframe\">\n",
       "  <thead>\n",
       "    <tr style=\"text-align: right;\">\n",
       "      <th></th>\n",
       "      <th>lin28b_ctrl_rep1</th>\n",
       "      <th>lin28b_ctrl_rep2</th>\n",
       "      <th>lin28b_kd_rep1</th>\n",
       "      <th>lin28b_kd_rep2</th>\n",
       "    </tr>\n",
       "    <tr>\n",
       "      <th>Geneid</th>\n",
       "      <th></th>\n",
       "      <th></th>\n",
       "      <th></th>\n",
       "      <th></th>\n",
       "    </tr>\n",
       "  </thead>\n",
       "  <tbody>\n",
       "    <tr>\n",
       "      <th>ENSG00000227232.4</th>\n",
       "      <td>3.183839</td>\n",
       "      <td>2.955821</td>\n",
       "      <td>3.327404</td>\n",
       "      <td>3.080806</td>\n",
       "    </tr>\n",
       "    <tr>\n",
       "      <th>ENSG00000238009.2</th>\n",
       "      <td>0.626631</td>\n",
       "      <td>0.994717</td>\n",
       "      <td>1.257932</td>\n",
       "      <td>0.966254</td>\n",
       "    </tr>\n",
       "    <tr>\n",
       "      <th>ENSG00000237683.5</th>\n",
       "      <td>4.205119</td>\n",
       "      <td>4.615069</td>\n",
       "      <td>5.160880</td>\n",
       "      <td>5.046702</td>\n",
       "    </tr>\n",
       "    <tr>\n",
       "      <th>ENSG00000239906.1</th>\n",
       "      <td>1.125712</td>\n",
       "      <td>0.897695</td>\n",
       "      <td>2.269670</td>\n",
       "      <td>2.575293</td>\n",
       "    </tr>\n",
       "    <tr>\n",
       "      <th>ENSG00000241860.2</th>\n",
       "      <td>0.997239</td>\n",
       "      <td>-0.068348</td>\n",
       "      <td>0.341595</td>\n",
       "      <td>-0.018187</td>\n",
       "    </tr>\n",
       "  </tbody>\n",
       "</table>\n",
       "</div>"
      ],
      "text/plain": [
       "                   lin28b_ctrl_rep1  lin28b_ctrl_rep2  lin28b_kd_rep1  \\\n",
       "Geneid                                                                  \n",
       "ENSG00000227232.4          3.183839          2.955821        3.327404   \n",
       "ENSG00000238009.2          0.626631          0.994717        1.257932   \n",
       "ENSG00000237683.5          4.205119          4.615069        5.160880   \n",
       "ENSG00000239906.1          1.125712          0.897695        2.269670   \n",
       "ENSG00000241860.2          0.997239         -0.068348        0.341595   \n",
       "\n",
       "                   lin28b_kd_rep2  \n",
       "Geneid                             \n",
       "ENSG00000227232.4        3.080806  \n",
       "ENSG00000238009.2        0.966254  \n",
       "ENSG00000237683.5        5.046702  \n",
       "ENSG00000239906.1        2.575293  \n",
       "ENSG00000241860.2       -0.018187  "
      ]
     },
     "execution_count": 35,
     "metadata": {},
     "output_type": "execute_result"
    }
   ],
   "source": [
    "#Let's filter again to remove rows where the average log2RPKM < 0\n",
    "\n",
    "rpkm_log2_filtered = rpkm_log2.loc[rpkm_log2.mean(axis=1) > 0]\n",
    "print(rpkm_log2_filtered.shape)\n",
    "rpkm_log2_filtered.head()"
   ]
  },
  {
   "cell_type": "code",
   "execution_count": 36,
   "metadata": {},
   "outputs": [
    {
     "data": {
      "image/png": "[encoded data removed]",
      "text/plain": [
       "<Figure size 1440x288 with 1 Axes>"
      ]
     },
     "metadata": {},
     "output_type": "display_data"
    },
    {
     "data": {
      "image/png": "[encoded data removed]",
      "text/plain": [
       "<Figure size 1440x288 with 1 Axes>"
      ]
     },
     "metadata": {},
     "output_type": "display_data"
    },
    {
     "data": {
      "image/png": "[encoded data removed]",
      "text/plain": [
       "<Figure size 1440x288 with 1 Axes>"
      ]
     },
     "metadata": {},
     "output_type": "display_data"
    },
    {
     "data": {
      "image/png": "[encoded data removed]",
      "text/plain": [
       "<Figure size 1440x288 with 1 Axes>"
      ]
     },
     "metadata": {},
     "output_type": "display_data"
    }
   ],
   "source": [
    "sns.set_style(\"whitegrid\")\n",
    "for i, a in zip(rpkm_log2_filtered.columns, range(1,5)):\n",
    "    plt.figure(figsize=(20,4))\n",
    "    plt.subplot(1,4,a)\n",
    "    plt.hist(rpkm_log2_filtered[i], bins=100)\n",
    "    plt.xlabel(\"log2 RPKM\")\n",
    "    plt.ylabel(\"count\")\n",
    "    plt.title(i)"
   ]
  },
  {
   "cell_type": "code",
   "execution_count": 37,
   "metadata": {},
   "outputs": [],
   "source": [
    "#Now we will save the file. Note that it will go to the same location we defined as \n",
    "#directory above and it will be given the filename rpkm_log2_filtered.csv\n",
    "rpkm_log2_filtered.to_csv(directory+\"rpkm_log2_filtered.csv\")"
   ]
  },
  {
   "cell_type": "code",
   "execution_count": 38,
   "metadata": {},
   "outputs": [
    {
     "data": {
      "text/plain": [
       "<seaborn.matrix.ClusterGrid at 0x2ad260779198>"
      ]
     },
     "execution_count": 38,
     "metadata": {},
     "output_type": "execute_result"
    },
    {
     "data": {
      "image/png": "[encoded data removed]",
      "text/plain": [
       "<Figure size 720x720 with 4 Axes>"
      ]
     },
     "metadata": {},
     "output_type": "display_data"
    }
   ],
   "source": [
    "sns.clustermap(rpkm.corr(method='pearson'),cmap='Reds')"
   ]
  },
  {
   "cell_type": "code",
   "execution_count": 39,
   "metadata": {},
   "outputs": [
    {
     "data": {
      "text/plain": [
       "<seaborn.matrix.ClusterGrid at 0x2ad260bea1d0>"
      ]
     },
     "execution_count": 39,
     "metadata": {},
     "output_type": "execute_result"
    },
    {
     "data": {
      "image/png": "[encoded data removed]",
      "text/plain": [
       "<Figure size 720x720 with 4 Axes>"
      ]
     },
     "metadata": {},
     "output_type": "display_data"
    }
   ],
   "source": [
    "sns.clustermap(rpkm.corr(method='spearman'),cmap='Reds')"
   ]
  },
  {
   "cell_type": "code",
   "execution_count": 40,
   "metadata": {
    "scrolled": false
   },
   "outputs": [
    {
     "data": {
      "text/plain": [
       "<seaborn.matrix.ClusterGrid at 0x2ad260e91f28>"
      ]
     },
     "execution_count": 40,
     "metadata": {},
     "output_type": "execute_result"
    },
    {
     "data": {
      "image/png": "[encoded data removed]",
      "text/plain": [
       "<Figure size 720x720 with 4 Axes>"
      ]
     },
     "metadata": {},
     "output_type": "display_data"
    }
   ],
   "source": [
    "sns.clustermap(rpkm_filtered.corr(method='pearson'))"
   ]
  },
  {
   "cell_type": "code",
   "execution_count": null,
   "metadata": {
    "collapsed": true
   },
   "outputs": [],
   "source": []
  }
 ],
 "metadata": {
  "kernelspec": {
   "display_name": "Python 3",
   "language": "python",
   "name": "python3"
  },
  "language_info": {
   "codemirror_mode": {
    "name": "ipython",
    "version": 3
   },
   "file_extension": ".py",
   "mimetype": "text/x-python",
   "name": "python",
   "nbconvert_exporter": "python",
   "pygments_lexer": "ipython3",
   "version": "3.7.3"
  }
 },
 "nbformat": 4,
 "nbformat_minor": 1
}
